{
  "nbformat": 4,
  "nbformat_minor": 0,
  "metadata": {
    "colab": {
      "name": "summer.ipynb",
      "provenance": [],
      "collapsed_sections": []
    },
    "kernelspec": {
      "name": "python3",
      "display_name": "Python 3"
    },
    "language_info": {
      "name": "python"
    }
  },
  "cells": [
    {
      "cell_type": "code",
      "metadata": {
        "id": "rVaDVkyuCYj0"
      },
      "source": [
        "import pandas as pd\n",
        "import numpy as np\n",
        "import matplotlib.pyplot as plt\n",
        "\n"
      ],
      "execution_count": 1,
      "outputs": []
    },
    {
      "cell_type": "code",
      "metadata": {
        "id": "kHgM74AbDvgP"
      },
      "source": [
        "df = pd.read_csv(\"summer.csv\")"
      ],
      "execution_count": 5,
      "outputs": []
    },
    {
      "cell_type": "code",
      "metadata": {
        "colab": {
          "base_uri": "https://localhost:8080/",
          "height": 417
        },
        "id": "QOgqvLE9EDPg",
        "outputId": "3443c865-0514-492b-aa3e-bcf6dbcecf3d"
      },
      "source": [
        "df"
      ],
      "execution_count": 6,
      "outputs": [
        {
          "output_type": "execute_result",
          "data": {
            "text/html": [
              "<div>\n",
              "<style scoped>\n",
              "    .dataframe tbody tr th:only-of-type {\n",
              "        vertical-align: middle;\n",
              "    }\n",
              "\n",
              "    .dataframe tbody tr th {\n",
              "        vertical-align: top;\n",
              "    }\n",
              "\n",
              "    .dataframe thead th {\n",
              "        text-align: right;\n",
              "    }\n",
              "</style>\n",
              "<table border=\"1\" class=\"dataframe\">\n",
              "  <thead>\n",
              "    <tr style=\"text-align: right;\">\n",
              "      <th></th>\n",
              "      <th>Year</th>\n",
              "      <th>City</th>\n",
              "      <th>Sport</th>\n",
              "      <th>Discipline</th>\n",
              "      <th>Athlete</th>\n",
              "      <th>Country</th>\n",
              "      <th>Gender</th>\n",
              "      <th>Event</th>\n",
              "      <th>Medal</th>\n",
              "    </tr>\n",
              "  </thead>\n",
              "  <tbody>\n",
              "    <tr>\n",
              "      <th>0</th>\n",
              "      <td>1896</td>\n",
              "      <td>Athens</td>\n",
              "      <td>Aquatics</td>\n",
              "      <td>Swimming</td>\n",
              "      <td>HAJOS, Alfred</td>\n",
              "      <td>HUN</td>\n",
              "      <td>Men</td>\n",
              "      <td>100M Freestyle</td>\n",
              "      <td>Gold</td>\n",
              "    </tr>\n",
              "    <tr>\n",
              "      <th>1</th>\n",
              "      <td>1896</td>\n",
              "      <td>Athens</td>\n",
              "      <td>Aquatics</td>\n",
              "      <td>Swimming</td>\n",
              "      <td>HERSCHMANN, Otto</td>\n",
              "      <td>AUT</td>\n",
              "      <td>Men</td>\n",
              "      <td>100M Freestyle</td>\n",
              "      <td>Silver</td>\n",
              "    </tr>\n",
              "    <tr>\n",
              "      <th>2</th>\n",
              "      <td>1896</td>\n",
              "      <td>Athens</td>\n",
              "      <td>Aquatics</td>\n",
              "      <td>Swimming</td>\n",
              "      <td>DRIVAS, Dimitrios</td>\n",
              "      <td>GRE</td>\n",
              "      <td>Men</td>\n",
              "      <td>100M Freestyle For Sailors</td>\n",
              "      <td>Bronze</td>\n",
              "    </tr>\n",
              "    <tr>\n",
              "      <th>3</th>\n",
              "      <td>1896</td>\n",
              "      <td>Athens</td>\n",
              "      <td>Aquatics</td>\n",
              "      <td>Swimming</td>\n",
              "      <td>MALOKINIS, Ioannis</td>\n",
              "      <td>GRE</td>\n",
              "      <td>Men</td>\n",
              "      <td>100M Freestyle For Sailors</td>\n",
              "      <td>Gold</td>\n",
              "    </tr>\n",
              "    <tr>\n",
              "      <th>4</th>\n",
              "      <td>1896</td>\n",
              "      <td>Athens</td>\n",
              "      <td>Aquatics</td>\n",
              "      <td>Swimming</td>\n",
              "      <td>CHASAPIS, Spiridon</td>\n",
              "      <td>GRE</td>\n",
              "      <td>Men</td>\n",
              "      <td>100M Freestyle For Sailors</td>\n",
              "      <td>Silver</td>\n",
              "    </tr>\n",
              "    <tr>\n",
              "      <th>...</th>\n",
              "      <td>...</td>\n",
              "      <td>...</td>\n",
              "      <td>...</td>\n",
              "      <td>...</td>\n",
              "      <td>...</td>\n",
              "      <td>...</td>\n",
              "      <td>...</td>\n",
              "      <td>...</td>\n",
              "      <td>...</td>\n",
              "    </tr>\n",
              "    <tr>\n",
              "      <th>31160</th>\n",
              "      <td>2012</td>\n",
              "      <td>London</td>\n",
              "      <td>Wrestling</td>\n",
              "      <td>Wrestling Freestyle</td>\n",
              "      <td>JANIKOWSKI, Damian</td>\n",
              "      <td>POL</td>\n",
              "      <td>Men</td>\n",
              "      <td>Wg 84 KG</td>\n",
              "      <td>Bronze</td>\n",
              "    </tr>\n",
              "    <tr>\n",
              "      <th>31161</th>\n",
              "      <td>2012</td>\n",
              "      <td>London</td>\n",
              "      <td>Wrestling</td>\n",
              "      <td>Wrestling Freestyle</td>\n",
              "      <td>REZAEI, Ghasem Gholamreza</td>\n",
              "      <td>IRI</td>\n",
              "      <td>Men</td>\n",
              "      <td>Wg 96 KG</td>\n",
              "      <td>Gold</td>\n",
              "    </tr>\n",
              "    <tr>\n",
              "      <th>31162</th>\n",
              "      <td>2012</td>\n",
              "      <td>London</td>\n",
              "      <td>Wrestling</td>\n",
              "      <td>Wrestling Freestyle</td>\n",
              "      <td>TOTROV, Rustam</td>\n",
              "      <td>RUS</td>\n",
              "      <td>Men</td>\n",
              "      <td>Wg 96 KG</td>\n",
              "      <td>Silver</td>\n",
              "    </tr>\n",
              "    <tr>\n",
              "      <th>31163</th>\n",
              "      <td>2012</td>\n",
              "      <td>London</td>\n",
              "      <td>Wrestling</td>\n",
              "      <td>Wrestling Freestyle</td>\n",
              "      <td>ALEKSANYAN, Artur</td>\n",
              "      <td>ARM</td>\n",
              "      <td>Men</td>\n",
              "      <td>Wg 96 KG</td>\n",
              "      <td>Bronze</td>\n",
              "    </tr>\n",
              "    <tr>\n",
              "      <th>31164</th>\n",
              "      <td>2012</td>\n",
              "      <td>London</td>\n",
              "      <td>Wrestling</td>\n",
              "      <td>Wrestling Freestyle</td>\n",
              "      <td>LIDBERG, Jimmy</td>\n",
              "      <td>SWE</td>\n",
              "      <td>Men</td>\n",
              "      <td>Wg 96 KG</td>\n",
              "      <td>Bronze</td>\n",
              "    </tr>\n",
              "  </tbody>\n",
              "</table>\n",
              "<p>31165 rows × 9 columns</p>\n",
              "</div>"
            ],
            "text/plain": [
              "       Year    City      Sport  ... Gender                       Event   Medal\n",
              "0      1896  Athens   Aquatics  ...    Men              100M Freestyle    Gold\n",
              "1      1896  Athens   Aquatics  ...    Men              100M Freestyle  Silver\n",
              "2      1896  Athens   Aquatics  ...    Men  100M Freestyle For Sailors  Bronze\n",
              "3      1896  Athens   Aquatics  ...    Men  100M Freestyle For Sailors    Gold\n",
              "4      1896  Athens   Aquatics  ...    Men  100M Freestyle For Sailors  Silver\n",
              "...     ...     ...        ...  ...    ...                         ...     ...\n",
              "31160  2012  London  Wrestling  ...    Men                    Wg 84 KG  Bronze\n",
              "31161  2012  London  Wrestling  ...    Men                    Wg 96 KG    Gold\n",
              "31162  2012  London  Wrestling  ...    Men                    Wg 96 KG  Silver\n",
              "31163  2012  London  Wrestling  ...    Men                    Wg 96 KG  Bronze\n",
              "31164  2012  London  Wrestling  ...    Men                    Wg 96 KG  Bronze\n",
              "\n",
              "[31165 rows x 9 columns]"
            ]
          },
          "metadata": {},
          "execution_count": 6
        }
      ]
    },
    {
      "cell_type": "code",
      "metadata": {
        "colab": {
          "base_uri": "https://localhost:8080/",
          "height": 203
        },
        "id": "1ruO-mHWHzaD",
        "outputId": "ebf0b3c1-cff9-4d9d-b9c2-09515c583f8a"
      },
      "source": [
        "df.head()"
      ],
      "execution_count": 7,
      "outputs": [
        {
          "output_type": "execute_result",
          "data": {
            "text/html": [
              "<div>\n",
              "<style scoped>\n",
              "    .dataframe tbody tr th:only-of-type {\n",
              "        vertical-align: middle;\n",
              "    }\n",
              "\n",
              "    .dataframe tbody tr th {\n",
              "        vertical-align: top;\n",
              "    }\n",
              "\n",
              "    .dataframe thead th {\n",
              "        text-align: right;\n",
              "    }\n",
              "</style>\n",
              "<table border=\"1\" class=\"dataframe\">\n",
              "  <thead>\n",
              "    <tr style=\"text-align: right;\">\n",
              "      <th></th>\n",
              "      <th>Year</th>\n",
              "      <th>City</th>\n",
              "      <th>Sport</th>\n",
              "      <th>Discipline</th>\n",
              "      <th>Athlete</th>\n",
              "      <th>Country</th>\n",
              "      <th>Gender</th>\n",
              "      <th>Event</th>\n",
              "      <th>Medal</th>\n",
              "    </tr>\n",
              "  </thead>\n",
              "  <tbody>\n",
              "    <tr>\n",
              "      <th>0</th>\n",
              "      <td>1896</td>\n",
              "      <td>Athens</td>\n",
              "      <td>Aquatics</td>\n",
              "      <td>Swimming</td>\n",
              "      <td>HAJOS, Alfred</td>\n",
              "      <td>HUN</td>\n",
              "      <td>Men</td>\n",
              "      <td>100M Freestyle</td>\n",
              "      <td>Gold</td>\n",
              "    </tr>\n",
              "    <tr>\n",
              "      <th>1</th>\n",
              "      <td>1896</td>\n",
              "      <td>Athens</td>\n",
              "      <td>Aquatics</td>\n",
              "      <td>Swimming</td>\n",
              "      <td>HERSCHMANN, Otto</td>\n",
              "      <td>AUT</td>\n",
              "      <td>Men</td>\n",
              "      <td>100M Freestyle</td>\n",
              "      <td>Silver</td>\n",
              "    </tr>\n",
              "    <tr>\n",
              "      <th>2</th>\n",
              "      <td>1896</td>\n",
              "      <td>Athens</td>\n",
              "      <td>Aquatics</td>\n",
              "      <td>Swimming</td>\n",
              "      <td>DRIVAS, Dimitrios</td>\n",
              "      <td>GRE</td>\n",
              "      <td>Men</td>\n",
              "      <td>100M Freestyle For Sailors</td>\n",
              "      <td>Bronze</td>\n",
              "    </tr>\n",
              "    <tr>\n",
              "      <th>3</th>\n",
              "      <td>1896</td>\n",
              "      <td>Athens</td>\n",
              "      <td>Aquatics</td>\n",
              "      <td>Swimming</td>\n",
              "      <td>MALOKINIS, Ioannis</td>\n",
              "      <td>GRE</td>\n",
              "      <td>Men</td>\n",
              "      <td>100M Freestyle For Sailors</td>\n",
              "      <td>Gold</td>\n",
              "    </tr>\n",
              "    <tr>\n",
              "      <th>4</th>\n",
              "      <td>1896</td>\n",
              "      <td>Athens</td>\n",
              "      <td>Aquatics</td>\n",
              "      <td>Swimming</td>\n",
              "      <td>CHASAPIS, Spiridon</td>\n",
              "      <td>GRE</td>\n",
              "      <td>Men</td>\n",
              "      <td>100M Freestyle For Sailors</td>\n",
              "      <td>Silver</td>\n",
              "    </tr>\n",
              "  </tbody>\n",
              "</table>\n",
              "</div>"
            ],
            "text/plain": [
              "   Year    City     Sport  ... Gender                       Event   Medal\n",
              "0  1896  Athens  Aquatics  ...    Men              100M Freestyle    Gold\n",
              "1  1896  Athens  Aquatics  ...    Men              100M Freestyle  Silver\n",
              "2  1896  Athens  Aquatics  ...    Men  100M Freestyle For Sailors  Bronze\n",
              "3  1896  Athens  Aquatics  ...    Men  100M Freestyle For Sailors    Gold\n",
              "4  1896  Athens  Aquatics  ...    Men  100M Freestyle For Sailors  Silver\n",
              "\n",
              "[5 rows x 9 columns]"
            ]
          },
          "metadata": {},
          "execution_count": 7
        }
      ]
    },
    {
      "cell_type": "code",
      "metadata": {
        "colab": {
          "base_uri": "https://localhost:8080/",
          "height": 203
        },
        "id": "eO4tiNbugMcs",
        "outputId": "127a2c43-0bf4-498b-943e-153808288da0"
      },
      "source": [
        "df.tail()"
      ],
      "execution_count": 8,
      "outputs": [
        {
          "output_type": "execute_result",
          "data": {
            "text/html": [
              "<div>\n",
              "<style scoped>\n",
              "    .dataframe tbody tr th:only-of-type {\n",
              "        vertical-align: middle;\n",
              "    }\n",
              "\n",
              "    .dataframe tbody tr th {\n",
              "        vertical-align: top;\n",
              "    }\n",
              "\n",
              "    .dataframe thead th {\n",
              "        text-align: right;\n",
              "    }\n",
              "</style>\n",
              "<table border=\"1\" class=\"dataframe\">\n",
              "  <thead>\n",
              "    <tr style=\"text-align: right;\">\n",
              "      <th></th>\n",
              "      <th>Year</th>\n",
              "      <th>City</th>\n",
              "      <th>Sport</th>\n",
              "      <th>Discipline</th>\n",
              "      <th>Athlete</th>\n",
              "      <th>Country</th>\n",
              "      <th>Gender</th>\n",
              "      <th>Event</th>\n",
              "      <th>Medal</th>\n",
              "    </tr>\n",
              "  </thead>\n",
              "  <tbody>\n",
              "    <tr>\n",
              "      <th>31160</th>\n",
              "      <td>2012</td>\n",
              "      <td>London</td>\n",
              "      <td>Wrestling</td>\n",
              "      <td>Wrestling Freestyle</td>\n",
              "      <td>JANIKOWSKI, Damian</td>\n",
              "      <td>POL</td>\n",
              "      <td>Men</td>\n",
              "      <td>Wg 84 KG</td>\n",
              "      <td>Bronze</td>\n",
              "    </tr>\n",
              "    <tr>\n",
              "      <th>31161</th>\n",
              "      <td>2012</td>\n",
              "      <td>London</td>\n",
              "      <td>Wrestling</td>\n",
              "      <td>Wrestling Freestyle</td>\n",
              "      <td>REZAEI, Ghasem Gholamreza</td>\n",
              "      <td>IRI</td>\n",
              "      <td>Men</td>\n",
              "      <td>Wg 96 KG</td>\n",
              "      <td>Gold</td>\n",
              "    </tr>\n",
              "    <tr>\n",
              "      <th>31162</th>\n",
              "      <td>2012</td>\n",
              "      <td>London</td>\n",
              "      <td>Wrestling</td>\n",
              "      <td>Wrestling Freestyle</td>\n",
              "      <td>TOTROV, Rustam</td>\n",
              "      <td>RUS</td>\n",
              "      <td>Men</td>\n",
              "      <td>Wg 96 KG</td>\n",
              "      <td>Silver</td>\n",
              "    </tr>\n",
              "    <tr>\n",
              "      <th>31163</th>\n",
              "      <td>2012</td>\n",
              "      <td>London</td>\n",
              "      <td>Wrestling</td>\n",
              "      <td>Wrestling Freestyle</td>\n",
              "      <td>ALEKSANYAN, Artur</td>\n",
              "      <td>ARM</td>\n",
              "      <td>Men</td>\n",
              "      <td>Wg 96 KG</td>\n",
              "      <td>Bronze</td>\n",
              "    </tr>\n",
              "    <tr>\n",
              "      <th>31164</th>\n",
              "      <td>2012</td>\n",
              "      <td>London</td>\n",
              "      <td>Wrestling</td>\n",
              "      <td>Wrestling Freestyle</td>\n",
              "      <td>LIDBERG, Jimmy</td>\n",
              "      <td>SWE</td>\n",
              "      <td>Men</td>\n",
              "      <td>Wg 96 KG</td>\n",
              "      <td>Bronze</td>\n",
              "    </tr>\n",
              "  </tbody>\n",
              "</table>\n",
              "</div>"
            ],
            "text/plain": [
              "       Year    City      Sport  ... Gender     Event   Medal\n",
              "31160  2012  London  Wrestling  ...    Men  Wg 84 KG  Bronze\n",
              "31161  2012  London  Wrestling  ...    Men  Wg 96 KG    Gold\n",
              "31162  2012  London  Wrestling  ...    Men  Wg 96 KG  Silver\n",
              "31163  2012  London  Wrestling  ...    Men  Wg 96 KG  Bronze\n",
              "31164  2012  London  Wrestling  ...    Men  Wg 96 KG  Bronze\n",
              "\n",
              "[5 rows x 9 columns]"
            ]
          },
          "metadata": {},
          "execution_count": 8
        }
      ]
    },
    {
      "cell_type": "markdown",
      "metadata": {
        "id": "A0qMyvAmIHXQ"
      },
      "source": [
        "##  In how many cities Summer Olympics is held so far?\n"
      ]
    },
    {
      "cell_type": "code",
      "metadata": {
        "colab": {
          "base_uri": "https://localhost:8080/"
        },
        "id": "WaWMqzg2JMUx",
        "outputId": "e80209aa-ee80-4878-f41d-dfaf10dd1735"
      },
      "source": [
        "df['Country']"
      ],
      "execution_count": 9,
      "outputs": [
        {
          "output_type": "execute_result",
          "data": {
            "text/plain": [
              "0        HUN\n",
              "1        AUT\n",
              "2        GRE\n",
              "3        GRE\n",
              "4        GRE\n",
              "        ... \n",
              "31160    POL\n",
              "31161    IRI\n",
              "31162    RUS\n",
              "31163    ARM\n",
              "31164    SWE\n",
              "Name: Country, Length: 31165, dtype: object"
            ]
          },
          "metadata": {},
          "execution_count": 9
        }
      ]
    },
    {
      "cell_type": "code",
      "metadata": {
        "colab": {
          "base_uri": "https://localhost:8080/"
        },
        "id": "zPlJhnElff1d",
        "outputId": "164790c9-e0e5-4c1a-dfdc-b82fa7aa51ca"
      },
      "source": [
        "df['City']"
      ],
      "execution_count": 10,
      "outputs": [
        {
          "output_type": "execute_result",
          "data": {
            "text/plain": [
              "0        Athens\n",
              "1        Athens\n",
              "2        Athens\n",
              "3        Athens\n",
              "4        Athens\n",
              "          ...  \n",
              "31160    London\n",
              "31161    London\n",
              "31162    London\n",
              "31163    London\n",
              "31164    London\n",
              "Name: City, Length: 31165, dtype: object"
            ]
          },
          "metadata": {},
          "execution_count": 10
        }
      ]
    },
    {
      "cell_type": "code",
      "metadata": {
        "colab": {
          "base_uri": "https://localhost:8080/"
        },
        "id": "042x7_F-KyUC",
        "outputId": "a8b8f898-2663-4cd7-fe56-75130a76f6ac"
      },
      "source": [
        " df['Country'].unique()"
      ],
      "execution_count": 11,
      "outputs": [
        {
          "output_type": "execute_result",
          "data": {
            "text/plain": [
              "array(['HUN', 'AUT', 'GRE', 'USA', 'GER', 'GBR', 'FRA', 'AUS', 'DEN',\n",
              "       'SUI', 'ZZX', 'NED', 'BEL', 'IND', 'CAN', 'BOH', 'SWE', 'NOR',\n",
              "       'ESP', 'ITA', 'CUB', 'ANZ', 'RSA', 'FIN', 'RU1', 'EST', 'TCH',\n",
              "       'NZL', 'BRA', 'JPN', 'LUX', 'ARG', 'POL', 'POR', 'URU', 'YUG',\n",
              "       'ROU', 'HAI', 'EGY', 'PHI', 'IRL', 'CHI', 'LAT', 'MEX', 'TUR',\n",
              "       'PAN', 'JAM', 'SRI', 'KOR', 'PUR', 'PER', 'IRI', 'TRI', 'URS',\n",
              "       'VEN', 'BUL', 'LIB', 'EUA', 'ISL', 'PAK', 'BAH', 'BWI', 'TPE',\n",
              "       'ETH', 'MAR', 'GHA', 'IRQ', 'SIN', 'TUN', 'KEN', 'NGR', 'GDR',\n",
              "       'FRG', 'UGA', 'CMR', 'MGL', 'PRK', 'COL', 'NIG', 'THA', 'BER',\n",
              "       'TAN', 'GUY', 'ZIM', 'CHN', 'CIV', 'ZAM', 'DOM', 'ALG', 'SYR',\n",
              "       'SUR', 'CRC', 'INA', 'SEN', 'DJI', 'AHO', 'ISV', 'EUN', 'NAM',\n",
              "       'QAT', 'LTU', 'MAS', 'CRO', 'ISR', 'SLO', 'IOP', 'RUS', 'UKR',\n",
              "       'ECU', 'BDI', 'MOZ', 'CZE', 'BLR', 'TGA', 'KAZ', 'UZB', 'SVK',\n",
              "       'MDA', 'GEO', 'HKG', 'ARM', 'AZE', 'BAR', 'KSA', 'KGZ', 'KUW',\n",
              "       'VIE', 'MKD', 'SCG', 'ERI', 'PAR', 'UAE', 'SRB', 'SUD', 'MRI',\n",
              "       'TOG', 'TJK', 'AFG', nan, 'BRN', 'GUA', 'GRN', 'TTO', 'BOT', 'MNE',\n",
              "       'CYP', 'SGP', 'GAB'], dtype=object)"
            ]
          },
          "metadata": {},
          "execution_count": 11
        }
      ]
    },
    {
      "cell_type": "code",
      "metadata": {
        "colab": {
          "base_uri": "https://localhost:8080/"
        },
        "id": "6DacRM2TflTK",
        "outputId": "6db8eaf1-df2d-4401-e71e-e25a6286ebc7"
      },
      "source": [
        "df['City'].unique()"
      ],
      "execution_count": 12,
      "outputs": [
        {
          "output_type": "execute_result",
          "data": {
            "text/plain": [
              "array(['Athens', 'Paris', 'St Louis', 'London', 'Stockholm', 'Antwerp',\n",
              "       'Amsterdam', 'Los Angeles', 'Berlin', 'Helsinki',\n",
              "       'Melbourne / Stockholm', 'Rome', 'Tokyo', 'Mexico', 'Munich',\n",
              "       'Montreal', 'Moscow', 'Seoul', 'Barcelona', 'Atlanta', 'Sydney',\n",
              "       'Beijing'], dtype=object)"
            ]
          },
          "metadata": {},
          "execution_count": 12
        }
      ]
    },
    {
      "cell_type": "code",
      "metadata": {
        "colab": {
          "base_uri": "https://localhost:8080/"
        },
        "id": "HCWzR4QOTd-m",
        "outputId": "e4788825-703b-4c68-9d6a-66b42065d03c"
      },
      "source": [
        "len(df['Country'].unique())"
      ],
      "execution_count": 13,
      "outputs": [
        {
          "output_type": "execute_result",
          "data": {
            "text/plain": [
              "148"
            ]
          },
          "metadata": {},
          "execution_count": 13
        }
      ]
    },
    {
      "cell_type": "code",
      "metadata": {
        "colab": {
          "base_uri": "https://localhost:8080/"
        },
        "id": "eCflinuNfs1c",
        "outputId": "cfd6502d-5aa6-4088-8469-c79bd284426b"
      },
      "source": [
        "len(df['City'].unique())"
      ],
      "execution_count": 14,
      "outputs": [
        {
          "output_type": "execute_result",
          "data": {
            "text/plain": [
              "22"
            ]
          },
          "metadata": {},
          "execution_count": 14
        }
      ]
    },
    {
      "cell_type": "code",
      "metadata": {
        "colab": {
          "base_uri": "https://localhost:8080/"
        },
        "id": "8AYvjuLBKlyp",
        "outputId": "a70a9c91-6e85-4d08-f108-5abdc0ba6aae"
      },
      "source": [
        "for Country in df['Country'].unique():\n",
        "    print([Country , len(df[df['Country']  == Country])])"
      ],
      "execution_count": 15,
      "outputs": [
        {
          "output_type": "stream",
          "name": "stdout",
          "text": [
            "['HUN', 1079]\n",
            "['AUT', 146]\n",
            "['GRE', 148]\n",
            "['USA', 4585]\n",
            "['GER', 1305]\n",
            "['GBR', 1720]\n",
            "['FRA', 1396]\n",
            "['AUS', 1189]\n",
            "['DEN', 507]\n",
            "['SUI', 380]\n",
            "['ZZX', 48]\n",
            "['NED', 851]\n",
            "['BEL', 411]\n",
            "['IND', 184]\n",
            "['CAN', 649]\n",
            "['BOH', 7]\n",
            "['SWE', 1044]\n",
            "['NOR', 554]\n",
            "['ESP', 442]\n",
            "['ITA', 1296]\n",
            "['CUB', 410]\n",
            "['ANZ', 29]\n",
            "['RSA', 106]\n",
            "['FIN', 456]\n",
            "['RU1', 17]\n",
            "['EST', 39]\n",
            "['TCH', 329]\n",
            "['NZL', 190]\n",
            "['BRA', 431]\n",
            "['JPN', 788]\n",
            "['LUX', 2]\n",
            "['ARG', 259]\n",
            "['POL', 511]\n",
            "['POR', 33]\n",
            "['URU', 76]\n",
            "['YUG', 435]\n",
            "['ROU', 640]\n",
            "['HAI', 8]\n",
            "['EGY', 28]\n",
            "['PHI', 9]\n",
            "['IRL', 30]\n",
            "['CHI', 33]\n",
            "['LAT', 20]\n",
            "['MEX', 106]\n",
            "['TUR', 86]\n",
            "['PAN', 3]\n",
            "['JAM', 127]\n",
            "['SRI', 2]\n",
            "['KOR', 529]\n",
            "['PUR', 8]\n",
            "['PER', 15]\n",
            "['IRI', 61]\n",
            "['TRI', 20]\n",
            "['URS', 2049]\n",
            "['VEN', 12]\n",
            "['BUL', 333]\n",
            "['LIB', 4]\n",
            "['EUA', 260]\n",
            "['ISL', 17]\n",
            "['PAK', 121]\n",
            "['BAH', 27]\n",
            "['BWI', 5]\n",
            "['TPE', 44]\n",
            "['ETH', 45]\n",
            "['MAR', 22]\n",
            "['GHA', 16]\n",
            "['IRQ', 1]\n",
            "['SIN', 4]\n",
            "['TUN', 10]\n",
            "['KEN', 93]\n",
            "['NGR', 84]\n",
            "['GDR', 825]\n",
            "['FRG', 490]\n",
            "['UGA', 7]\n",
            "['CMR', 23]\n",
            "['MGL', 24]\n",
            "['PRK', 58]\n",
            "['COL', 19]\n",
            "['NIG', 1]\n",
            "['THA', 25]\n",
            "['BER', 1]\n",
            "['TAN', 2]\n",
            "['GUY', 1]\n",
            "['ZIM', 23]\n",
            "['CHN', 807]\n",
            "['CIV', 1]\n",
            "['ZAM', 2]\n",
            "['DOM', 6]\n",
            "['ALG', 15]\n",
            "['SYR', 3]\n",
            "['SUR', 2]\n",
            "['CRC', 4]\n",
            "['INA', 38]\n",
            "['SEN', 1]\n",
            "['DJI', 1]\n",
            "['AHO', 1]\n",
            "['ISV', 1]\n",
            "['EUN', 223]\n",
            "['NAM', 4]\n",
            "['QAT', 4]\n",
            "['LTU', 55]\n",
            "['MAS', 8]\n",
            "['CRO', 114]\n",
            "['ISR', 7]\n",
            "['SLO', 26]\n",
            "['IOP', 3]\n",
            "['RUS', 768]\n",
            "['UKR', 173]\n",
            "['ECU', 2]\n",
            "['BDI', 1]\n",
            "['MOZ', 2]\n",
            "['CZE', 56]\n",
            "['BLR', 113]\n",
            "['TGA', 1]\n",
            "['KAZ', 49]\n",
            "['UZB', 20]\n",
            "['SVK', 34]\n",
            "['MDA', 6]\n",
            "['GEO', 25]\n",
            "['HKG', 4]\n",
            "['ARM', 11]\n",
            "['AZE', 26]\n",
            "['BAR', 1]\n",
            "['KSA', 6]\n",
            "['KGZ', 3]\n",
            "['KUW', 2]\n",
            "['VIE', 2]\n",
            "['MKD', 1]\n",
            "['SCG', 14]\n",
            "['ERI', 1]\n",
            "['PAR', 17]\n",
            "['UAE', 1]\n",
            "['SRB', 31]\n",
            "['SUD', 1]\n",
            "['MRI', 1]\n",
            "['TOG', 1]\n",
            "['TJK', 3]\n",
            "['AFG', 2]\n",
            "[nan, 0]\n",
            "['BRN', 1]\n",
            "['GUA', 1]\n",
            "['GRN', 1]\n",
            "['TTO', 10]\n",
            "['BOT', 1]\n",
            "['MNE', 14]\n",
            "['CYP', 1]\n",
            "['SGP', 4]\n",
            "['GAB', 1]\n"
          ]
        }
      ]
    },
    {
      "cell_type": "code",
      "metadata": {
        "colab": {
          "base_uri": "https://localhost:8080/"
        },
        "id": "wn-jbxjUf85_",
        "outputId": "d60a8fee-f545-4d5d-af49-14557ac87e1c"
      },
      "source": [
        "for City in df['City'].unique():\n",
        "    print([City , len(df[df['City']  == City])])"
      ],
      "execution_count": 16,
      "outputs": [
        {
          "output_type": "stream",
          "name": "stdout",
          "text": [
            "['Athens', 2149]\n",
            "['Paris', 1396]\n",
            "['St Louis', 470]\n",
            "['London', 3567]\n",
            "['Stockholm', 885]\n",
            "['Antwerp', 1298]\n",
            "['Amsterdam', 710]\n",
            "['Los Angeles', 2074]\n",
            "['Berlin', 875]\n",
            "['Helsinki', 889]\n",
            "['Melbourne / Stockholm', 885]\n",
            "['Rome', 882]\n",
            "['Tokyo', 1010]\n",
            "['Mexico', 1031]\n",
            "['Munich', 1185]\n",
            "['Montreal', 1305]\n",
            "['Moscow', 1387]\n",
            "['Seoul', 1546]\n",
            "['Barcelona', 1705]\n",
            "['Atlanta', 1859]\n",
            "['Sydney', 2015]\n",
            "['Beijing', 2042]\n"
          ]
        }
      ]
    },
    {
      "cell_type": "markdown",
      "metadata": {
        "id": "-iM1EIp7ISV-"
      },
      "source": [
        "##  Which sport is having most number of Gold Medals so far? (Top 5)"
      ]
    },
    {
      "cell_type": "code",
      "metadata": {
        "colab": {
          "base_uri": "https://localhost:8080/"
        },
        "id": "aOkBrHLS5cb8",
        "outputId": "08d68dbc-0735-44b6-b1e0-0d27c09b8cfc"
      },
      "source": [
        "df[df.Medal=='Gold'].Sport.value_counts().head()"
      ],
      "execution_count": 59,
      "outputs": [
        {
          "output_type": "execute_result",
          "data": {
            "text/plain": [
              "Aquatics      1421\n",
              "Athletics     1215\n",
              "Rowing         890\n",
              "Gymnastics     820\n",
              "Fencing        552\n",
              "Name: Sport, dtype: int64"
            ]
          },
          "metadata": {},
          "execution_count": 59
        }
      ]
    },
    {
      "cell_type": "code",
      "metadata": {
        "colab": {
          "base_uri": "https://localhost:8080/"
        },
        "id": "vN_MemUA57av",
        "outputId": "09dcd2ec-9875-46c9-c93d-2bc5be3f37c0"
      },
      "source": [
        "df[df.Medal=='Gold'].Sport.value_counts().head()"
      ],
      "execution_count": 60,
      "outputs": [
        {
          "output_type": "execute_result",
          "data": {
            "text/plain": [
              "Aquatics      1421\n",
              "Athletics     1215\n",
              "Rowing         890\n",
              "Gymnastics     820\n",
              "Fencing        552\n",
              "Name: Sport, dtype: int64"
            ]
          },
          "metadata": {},
          "execution_count": 60
        }
      ]
    },
    {
      "cell_type": "code",
      "metadata": {
        "colab": {
          "base_uri": "https://localhost:8080/"
        },
        "id": "ko5QiYco3Zyf",
        "outputId": "b499d88c-4731-4f73-a546-a5dd9651b204"
      },
      "source": [
        "M=df2=df[df.Medal=='Gold']\n",
        "df2[df2.Gender=='Men'].Sport.value_counts()"
      ],
      "execution_count": 53,
      "outputs": [
        {
          "output_type": "execute_result",
          "data": {
            "text/plain": [
              "Aquatics             832\n",
              "Athletics            826\n",
              "Rowing               673\n",
              "Gymnastics           552\n",
              "Fencing              444\n",
              "Football             417\n",
              "Wrestling            379\n",
              "Sailing              374\n",
              "Hockey               342\n",
              "Shooting             341\n",
              "Cycling              326\n",
              "Equestrian           269\n",
              "Canoe / Kayak        258\n",
              "Boxing               236\n",
              "Basketball           222\n",
              "Handball             179\n",
              "Weightlifting        172\n",
              "Volleyball           166\n",
              "Baseball             111\n",
              "Archery               87\n",
              "Judo                  81\n",
              "Rugby                 78\n",
              "Modern Pentathlon     56\n",
              "Tennis                54\n",
              "Tug of War            36\n",
              "Lacrosse              28\n",
              "Table Tennis          23\n",
              "Badminton             23\n",
              "Polo                  22\n",
              "Canoe                 18\n",
              "Taekwondo             16\n",
              "Golf                  12\n",
              "Cricket               12\n",
              "Ice Hockey             8\n",
              "Water Motorsports      5\n",
              "Skating                5\n",
              "Triathlon              4\n",
              "Croquet                4\n",
              "Rackets                3\n",
              "Basque Pelota          2\n",
              "Jeu de paume           1\n",
              "Roque                  1\n",
              "Name: Sport, dtype: int64"
            ]
          },
          "metadata": {},
          "execution_count": 53
        }
      ]
    },
    {
      "cell_type": "code",
      "metadata": {
        "colab": {
          "base_uri": "https://localhost:8080/"
        },
        "id": "fuLTHU0N4XQJ",
        "outputId": "af6e766a-90c8-49e0-ebd3-3e4d88ea36bc"
      },
      "source": [
        "F=df2=df[df.Medal=='Gold']\n",
        "df2[df2.Gender=='Women'].Sport.value_counts()"
      ],
      "execution_count": 54,
      "outputs": [
        {
          "output_type": "execute_result",
          "data": {
            "text/plain": [
              "Aquatics             589\n",
              "Athletics            389\n",
              "Gymnastics           268\n",
              "Rowing               217\n",
              "Volleyball           166\n",
              "Hockey               144\n",
              "Handball             142\n",
              "Basketball           120\n",
              "Fencing              108\n",
              "Football              86\n",
              "Canoe / Kayak         76\n",
              "Softball              60\n",
              "Equestrian            51\n",
              "Cycling               45\n",
              "Shooting              43\n",
              "Judo                  42\n",
              "Archery               39\n",
              "Sailing               38\n",
              "Tennis                38\n",
              "Weightlifting         28\n",
              "Badminton             23\n",
              "Table Tennis          23\n",
              "Taekwondo             16\n",
              "Wrestling             12\n",
              "Canoe                  9\n",
              "Modern Pentathlon      4\n",
              "Skating                4\n",
              "Triathlon              4\n",
              "Boxing                 3\n",
              "Golf                   1\n",
              "Name: Sport, dtype: int64"
            ]
          },
          "metadata": {},
          "execution_count": 54
        }
      ]
    },
    {
      "cell_type": "code",
      "metadata": {
        "colab": {
          "base_uri": "https://localhost:8080/",
          "height": 686
        },
        "id": "2Cyvgagj4cZr",
        "outputId": "4d179243-2d72-499a-f239-641883d4f8b0"
      },
      "source": [
        "M+F"
      ],
      "execution_count": 55,
      "outputs": [
        {
          "output_type": "execute_result",
          "data": {
            "text/html": [
              "<div>\n",
              "<style scoped>\n",
              "    .dataframe tbody tr th:only-of-type {\n",
              "        vertical-align: middle;\n",
              "    }\n",
              "\n",
              "    .dataframe tbody tr th {\n",
              "        vertical-align: top;\n",
              "    }\n",
              "\n",
              "    .dataframe thead th {\n",
              "        text-align: right;\n",
              "    }\n",
              "</style>\n",
              "<table border=\"1\" class=\"dataframe\">\n",
              "  <thead>\n",
              "    <tr style=\"text-align: right;\">\n",
              "      <th></th>\n",
              "      <th>Year</th>\n",
              "      <th>City</th>\n",
              "      <th>Sport</th>\n",
              "      <th>Discipline</th>\n",
              "      <th>Athlete</th>\n",
              "      <th>Country</th>\n",
              "      <th>Gender</th>\n",
              "      <th>Event</th>\n",
              "      <th>Medal</th>\n",
              "    </tr>\n",
              "  </thead>\n",
              "  <tbody>\n",
              "    <tr>\n",
              "      <th>0</th>\n",
              "      <td>3792</td>\n",
              "      <td>AthensAthens</td>\n",
              "      <td>AquaticsAquatics</td>\n",
              "      <td>SwimmingSwimming</td>\n",
              "      <td>HAJOS, AlfredHAJOS, Alfred</td>\n",
              "      <td>HUNHUN</td>\n",
              "      <td>MenMen</td>\n",
              "      <td>100M Freestyle100M Freestyle</td>\n",
              "      <td>GoldGold</td>\n",
              "    </tr>\n",
              "    <tr>\n",
              "      <th>3</th>\n",
              "      <td>3792</td>\n",
              "      <td>AthensAthens</td>\n",
              "      <td>AquaticsAquatics</td>\n",
              "      <td>SwimmingSwimming</td>\n",
              "      <td>MALOKINIS, IoannisMALOKINIS, Ioannis</td>\n",
              "      <td>GREGRE</td>\n",
              "      <td>MenMen</td>\n",
              "      <td>100M Freestyle For Sailors100M Freestyle For S...</td>\n",
              "      <td>GoldGold</td>\n",
              "    </tr>\n",
              "    <tr>\n",
              "      <th>6</th>\n",
              "      <td>3792</td>\n",
              "      <td>AthensAthens</td>\n",
              "      <td>AquaticsAquatics</td>\n",
              "      <td>SwimmingSwimming</td>\n",
              "      <td>HAJOS, AlfredHAJOS, Alfred</td>\n",
              "      <td>HUNHUN</td>\n",
              "      <td>MenMen</td>\n",
              "      <td>1200M Freestyle1200M Freestyle</td>\n",
              "      <td>GoldGold</td>\n",
              "    </tr>\n",
              "    <tr>\n",
              "      <th>9</th>\n",
              "      <td>3792</td>\n",
              "      <td>AthensAthens</td>\n",
              "      <td>AquaticsAquatics</td>\n",
              "      <td>SwimmingSwimming</td>\n",
              "      <td>NEUMANN, PaulNEUMANN, Paul</td>\n",
              "      <td>AUTAUT</td>\n",
              "      <td>MenMen</td>\n",
              "      <td>400M Freestyle400M Freestyle</td>\n",
              "      <td>GoldGold</td>\n",
              "    </tr>\n",
              "    <tr>\n",
              "      <th>13</th>\n",
              "      <td>3792</td>\n",
              "      <td>AthensAthens</td>\n",
              "      <td>AthleticsAthletics</td>\n",
              "      <td>AthleticsAthletics</td>\n",
              "      <td>BURKE, ThomasBURKE, Thomas</td>\n",
              "      <td>USAUSA</td>\n",
              "      <td>MenMen</td>\n",
              "      <td>100M100M</td>\n",
              "      <td>GoldGold</td>\n",
              "    </tr>\n",
              "    <tr>\n",
              "      <th>...</th>\n",
              "      <td>...</td>\n",
              "      <td>...</td>\n",
              "      <td>...</td>\n",
              "      <td>...</td>\n",
              "      <td>...</td>\n",
              "      <td>...</td>\n",
              "      <td>...</td>\n",
              "      <td>...</td>\n",
              "      <td>...</td>\n",
              "    </tr>\n",
              "    <tr>\n",
              "      <th>31145</th>\n",
              "      <td>4024</td>\n",
              "      <td>LondonLondon</td>\n",
              "      <td>WrestlingWrestling</td>\n",
              "      <td>Wrestling FreestyleWrestling Freestyle</td>\n",
              "      <td>NOROOZI, Omid HajiNOROOZI, Omid Haji</td>\n",
              "      <td>IRIIRI</td>\n",
              "      <td>MenMen</td>\n",
              "      <td>Wg 60 KGWg 60 KG</td>\n",
              "      <td>GoldGold</td>\n",
              "    </tr>\n",
              "    <tr>\n",
              "      <th>31149</th>\n",
              "      <td>4024</td>\n",
              "      <td>LondonLondon</td>\n",
              "      <td>WrestlingWrestling</td>\n",
              "      <td>Wrestling FreestyleWrestling Freestyle</td>\n",
              "      <td>KIM, HyeonwooKIM, Hyeonwoo</td>\n",
              "      <td>KORKOR</td>\n",
              "      <td>MenMen</td>\n",
              "      <td>Wg 66 KGWg 66 KG</td>\n",
              "      <td>GoldGold</td>\n",
              "    </tr>\n",
              "    <tr>\n",
              "      <th>31153</th>\n",
              "      <td>4024</td>\n",
              "      <td>LondonLondon</td>\n",
              "      <td>WrestlingWrestling</td>\n",
              "      <td>Wrestling FreestyleWrestling Freestyle</td>\n",
              "      <td>VLASOV, RomanVLASOV, Roman</td>\n",
              "      <td>RUSRUS</td>\n",
              "      <td>MenMen</td>\n",
              "      <td>Wg 74 KGWg 74 KG</td>\n",
              "      <td>GoldGold</td>\n",
              "    </tr>\n",
              "    <tr>\n",
              "      <th>31157</th>\n",
              "      <td>4024</td>\n",
              "      <td>LondonLondon</td>\n",
              "      <td>WrestlingWrestling</td>\n",
              "      <td>Wrestling FreestyleWrestling Freestyle</td>\n",
              "      <td>KHUGAEV, AlanKHUGAEV, Alan</td>\n",
              "      <td>RUSRUS</td>\n",
              "      <td>MenMen</td>\n",
              "      <td>Wg 84 KGWg 84 KG</td>\n",
              "      <td>GoldGold</td>\n",
              "    </tr>\n",
              "    <tr>\n",
              "      <th>31161</th>\n",
              "      <td>4024</td>\n",
              "      <td>LondonLondon</td>\n",
              "      <td>WrestlingWrestling</td>\n",
              "      <td>Wrestling FreestyleWrestling Freestyle</td>\n",
              "      <td>REZAEI, Ghasem GholamrezaREZAEI, Ghasem Gholam...</td>\n",
              "      <td>IRIIRI</td>\n",
              "      <td>MenMen</td>\n",
              "      <td>Wg 96 KGWg 96 KG</td>\n",
              "      <td>GoldGold</td>\n",
              "    </tr>\n",
              "  </tbody>\n",
              "</table>\n",
              "<p>10486 rows × 9 columns</p>\n",
              "</div>"
            ],
            "text/plain": [
              "       Year  ...     Medal\n",
              "0      3792  ...  GoldGold\n",
              "3      3792  ...  GoldGold\n",
              "6      3792  ...  GoldGold\n",
              "9      3792  ...  GoldGold\n",
              "13     3792  ...  GoldGold\n",
              "...     ...  ...       ...\n",
              "31145  4024  ...  GoldGold\n",
              "31149  4024  ...  GoldGold\n",
              "31153  4024  ...  GoldGold\n",
              "31157  4024  ...  GoldGold\n",
              "31161  4024  ...  GoldGold\n",
              "\n",
              "[10486 rows x 9 columns]"
            ]
          },
          "metadata": {},
          "execution_count": 55
        }
      ]
    },
    {
      "cell_type": "code",
      "metadata": {
        "colab": {
          "base_uri": "https://localhost:8080/"
        },
        "id": "u2YP6els5Etn",
        "outputId": "c4404817-9baf-49fc-9348-9efb4ad41fda"
      },
      "source": [
        "len(M+F)"
      ],
      "execution_count": 56,
      "outputs": [
        {
          "output_type": "execute_result",
          "data": {
            "text/plain": [
              "10486"
            ]
          },
          "metadata": {},
          "execution_count": 56
        }
      ]
    },
    {
      "cell_type": "code",
      "metadata": {
        "colab": {
          "base_uri": "https://localhost:8080/"
        },
        "id": "QgdaKCo1MdJX",
        "outputId": "26f67ee6-438a-4847-90e5-9564fc3fbe55"
      },
      "source": [
        "df[\"Medal\"].unique()"
      ],
      "execution_count": null,
      "outputs": [
        {
          "output_type": "execute_result",
          "data": {
            "text/plain": [
              "array(['Gold', 'Silver', 'Bronze'], dtype=object)"
            ]
          },
          "metadata": {},
          "execution_count": 39
        }
      ]
    },
    {
      "cell_type": "code",
      "metadata": {
        "colab": {
          "base_uri": "https://localhost:8080/"
        },
        "id": "H4gYXmrINTGE",
        "outputId": "812a9d55-d99a-468b-ce5c-0565304bc23f"
      },
      "source": [
        "df['Sport'].unique()"
      ],
      "execution_count": null,
      "outputs": [
        {
          "output_type": "execute_result",
          "data": {
            "text/plain": [
              "array(['Aquatics', 'Athletics', 'Cycling', 'Fencing', 'Gymnastics',\n",
              "       'Shooting', 'Tennis', 'Weightlifting', 'Wrestling', 'Archery',\n",
              "       'Basque Pelota', 'Cricket', 'Croquet', 'Equestrian', 'Football',\n",
              "       'Golf', 'Polo', 'Rowing', 'Rugby', 'Sailing', 'Tug of War',\n",
              "       'Boxing', 'Lacrosse', 'Roque', 'Hockey', 'Jeu de paume', 'Rackets',\n",
              "       'Skating', 'Water Motorsports', 'Modern Pentathlon', 'Ice Hockey',\n",
              "       'Basketball', 'Canoe / Kayak', 'Handball', 'Judo', 'Volleyball',\n",
              "       'Table Tennis', 'Badminton', 'Baseball', 'Softball', 'Taekwondo',\n",
              "       'Triathlon', 'Canoe'], dtype=object)"
            ]
          },
          "metadata": {},
          "execution_count": 74
        }
      ]
    },
    {
      "cell_type": "code",
      "metadata": {
        "colab": {
          "base_uri": "https://localhost:8080/"
        },
        "id": "EuRcP9wTPG07",
        "outputId": "2d1cdb37-d1b3-4e10-f848-f7fc8aaf0f4d"
      },
      "source": [
        "len(df['Sport'].unique())"
      ],
      "execution_count": null,
      "outputs": [
        {
          "output_type": "execute_result",
          "data": {
            "text/plain": [
              "43"
            ]
          },
          "metadata": {},
          "execution_count": 75
        }
      ]
    },
    {
      "cell_type": "code",
      "metadata": {
        "colab": {
          "base_uri": "https://localhost:8080/"
        },
        "id": "a30ZTbODUE41",
        "outputId": "8e654c74-24e4-4ed2-8607-b5a198f91f0d"
      },
      "source": [
        "df['Event'].unique()"
      ],
      "execution_count": null,
      "outputs": [
        {
          "output_type": "execute_result",
          "data": {
            "text/plain": [
              "array(['100M Freestyle', '100M Freestyle For Sailors', '1200M Freestyle',\n",
              "       '400M Freestyle', '100M', '110M Hurdles', '1500M', '400M', '800M',\n",
              "       'Discus Throw', 'High Jump', 'Long Jump', 'Marathon', 'Pole Vault',\n",
              "       'Shot Put', 'Triple Jump', 'Individual Road Race', '100KM', '10KM',\n",
              "       '12-Hour Race', '1KM Time Trial', 'Sprint Indivual',\n",
              "       'Foil Individual', 'Foil, Masters', 'Sabre Individual',\n",
              "       'Horizontal Bar', 'Parallel Bars', 'Pommel Horse', 'Rings',\n",
              "       'Rope Climbing', 'Team, Horizontal Bar', 'Team, Parallel Bars',\n",
              "       'Vault', '25M Army Pistol', '25M Rapid Fire Pistol (60 Shots)',\n",
              "       '50M Pistol (60 Shots)', 'Army Rifle, 200M', 'Army Rifle, 300M',\n",
              "       'Doubles', 'Singles', 'Heavyweight - One Hand Lift',\n",
              "       'Heavyweight - Two Hand Lift', 'Open Event', '1500M Freestyle',\n",
              "       '200M Backstroke', '200M Freestyle', '200M Obstacle Event',\n",
              "       '200M Team Swimming', '4000M Freestyle', 'Underwater Swimming',\n",
              "       'Water Polo', 'Au Chapelet, 33M', 'Au Chapelet, 50M',\n",
              "       'Au Cordon Doré, 33M', 'Au Cordon Doré, 50M',\n",
              "       'Sur La Perche À La Herse', 'Sur La Perche À La Pyramide', '200M',\n",
              "       '200M Hurdles', '3000M Steeplechase', '4000M Steeplechase',\n",
              "       '400M Hurdles', '5000M Team', '60M', 'Hammer Throw',\n",
              "       'High Jump, Standing', 'Long Jump, Standing',\n",
              "       'Triple Jump, Standing', 'Cesta Punta', 'Cricket', 'Double',\n",
              "       'Individual 1 Ball', 'Individual 2 Balls', '25 Kilometres',\n",
              "       'Individual', 'Long Jump Individual', 'Épée Individual',\n",
              "       'Épée, Amateurs And Masters', 'Épée, Masters', 'Sabre, Masters',\n",
              "       'Football', 'Individual All-Round', 'Polo',\n",
              "       'Eight With Coxswain (8+)', 'Four-Oared Shell With Coxswain (4-)',\n",
              "       'Pair-Oared Shell With Coxswain (2+)', 'Single Sculls (1X)',\n",
              "       'Rugby', '0.5-1T', '10-20T', '3-10T', 'Open Class',\n",
              "       '50M Army Pistol, Team', 'Army Rifle, 300M, 3 Positions',\n",
              "       'Army Rifle, 300M, Kneeling', 'Army Rifle, 300M, Prone',\n",
              "       'Army Rifle, 300M, Standing', 'Free Rifle, Team',\n",
              "       'Trap (125 Targets)', 'Mixed Doubles', 'Tug Of War',\n",
              "       '10M Platform', 'Plunge For Distance', '100M Backstroke',\n",
              "       '400M Breaststroke', '4X50Y Freestyle Relay',\n",
              "       '50Y Freestyle (45.72M)', '880Y Freestyle (804.66M)',\n",
              "       'Double American Round (60Y - 50Y - 40Y)',\n",
              "       'Double Columbia Round (50Y - 40Y - 30Y)',\n",
              "       'Double National Round (60Y - 50Y)',\n",
              "       'Double York Round (100Y - 80Y - 60Y)', 'Team Round 60Y',\n",
              "       'Teams Fita Round', '4Miles Team', '56LB Weight Throw (25.4KG)',\n",
              "       'Decathlon', 'Triathlon (Long Jump / Shot Put / 100 Yards)',\n",
              "       '- 47.63KG (Flyweight)', '+ 71.67KG (Heavyweight)',\n",
              "       '47.63 - 52.16KG (Bantamweight)', '52.16 - 56.7KG (Featherweight)',\n",
              "       '56.7 - 61.24KG (Lightweight)', '61.24 - 65.77KG (Welterweight)',\n",
              "       '65.77 - 71.67KG (Middleweight)', '1 Mile (1609.3M)',\n",
              "       '1/2 Mile (804.7M)', '1/3 Mile (536.5M)', '1/4 Mile (402.3M)',\n",
              "       '2 Miles (3.218KM)', '25 Miles (40.232KM)', '5 Miles (8.046KM)',\n",
              "       'Foil Team', 'Stick, Single', 'Team', 'Club Swinging',\n",
              "       'Combined 3 Events', 'Combined 4 Events', 'Team Competition',\n",
              "       'Lacrosse', 'Coxless Pair (2-)', 'Double Sculls (2X)',\n",
              "       'Four Without Coxswain (4-)', 'All-Around Dumbbell Contest',\n",
              "       '- 47.6KG (Light-Flyweight)', '47.6 - 52.16KG (Flyweight)',\n",
              "       '52.16 - 56.7KG (Bantamweight)', '56.7 - 61.23KG (Featherweight)',\n",
              "       '61.23 - 65.77KG (Lightweight)', '65.77 - 71.67KG (Welterweight)',\n",
              "       '3M Springboard', '200M Breaststroke', '4X200M Freestyle Relay',\n",
              "       'Continental Style 50M', 'National Round (60Y - 50Y)',\n",
              "       'York Round (100Y - 80Y - 60Y)', '10Miles Walk (16093M)',\n",
              "       '3200M Steeplechase', '3500M Walk', '3Miles Team (4828M)',\n",
              "       '4X400M Relay', '5 Miles (8047M)', 'Discus Throw Ancient Style',\n",
              "       'Javelin Throw', 'Javelin Throw Freestyle',\n",
              "       '- 52.62KG (Bantamweight)', '52.62 - 57.15KG (Featherweight)',\n",
              "       '57.15 - 63.5KG (Lightweight)', '63.5 - 71.67KG (Middleweight)',\n",
              "       '1980 Yards Pursuit, Team', '2000M Tandem', '20KM', '5000M',\n",
              "       'One Lap (660Y) Sprint', 'Épée Team', 'Sabre Team', 'Hockey',\n",
              "       '12M', '6M', '7M', '8M', '1000Y Free Rifle, Prone',\n",
              "       '100M Running Deer, Double Shots',\n",
              "       '100M Running Deer, Single Shots',\n",
              "       '100M Running Deer, Single Shots, Team',\n",
              "       '25Y Small Bore Rifle, Disappearing Target',\n",
              "       '25Y Small Bore Rifle, Moving Target',\n",
              "       '300M Free Rifle 3 Positions (3X40 Shots)',\n",
              "       '50+100Y Small Bore Rifle, Team', '50M Rifle Prone (60 Shots)',\n",
              "       '50Y Army Pistol, Team', 'Clay Pigeons, Team', 'Rifle, Team',\n",
              "       'Pairs', 'Special Figures', 'Doubles Indoor', 'Singles Indoor',\n",
              "       '8M Class C', 'Class B Up To 60 Feet', 'Open Class A',\n",
              "       '- 54KG (Bantamweight)', '+ 73KG (Heavyweight)',\n",
              "       '54 - 60.3KG (Featherweight)', '60.3 - 66.6KG (Lightweight)',\n",
              "       '66.6 - 73KG (Middleweight)', '- 66.6KG (Lightweight)',\n",
              "       '+ 93KG (Super Heavyweight)', '73 - 93KG (Light-Heavyweight)',\n",
              "       'Plain High Diving', '4X100M Freestyle Relay', '10000M',\n",
              "       '10000M Walk', '3000M Team', '4X100M Relay',\n",
              "       'Cross Country Individual', 'Cross Country Team',\n",
              "       'Discus Throw, Both Hands', 'Javelin Throw, Both Hands',\n",
              "       'Pentathlon', 'Shot Put, Both Hands', 'Individual Time Trial',\n",
              "       'Team Time Trial', 'Team, Free System', 'Team, Swedish System',\n",
              "       'Individual Competition', 'Coxed Fours Jugriggers', '10M',\n",
              "       '25M Small Bore Rifle, Team', '25M Small Rifle',\n",
              "       '30M Army Pistol, Team', '50M Small Bore Rifle, Team',\n",
              "       '600M Free Rifle', 'Mixed Doubles Indoor',\n",
              "       '- 60KG (Featherweight)', '+ 82.5KG (Super Heavyweight)',\n",
              "       '60 - 67.5KG (Lightweight)', '67.5 - 75KG (Middleweight)',\n",
              "       '75 - 82.5KG (Light-Heavyweight)', 'Fixed Bird Target Large Birds',\n",
              "       'Fixed Bird Target Large Birds Teams',\n",
              "       'Fixed Bird Target Small Bird, Teams',\n",
              "       'Fixed Bird Target Small Birds', 'Moving Bird Target 28M Teams',\n",
              "       'Moving Bird Target 33M Teams', 'Moving Bird Target 50M Teams',\n",
              "       'Moving Bird Target, 28M', 'Moving Bird Target, 33M',\n",
              "       'Moving Bird Target, 50M', '3000M Walk', '- 50.8KG (Flyweight)',\n",
              "       '+ 79.38KG (Heavyweight)', '50.8 - 53.52KG (Bantamweight)',\n",
              "       '53.52 - 57.15KG (Featherweight)', '57.15 - 61.24KG (Lightweight)',\n",
              "       '61.24 - 66.68KG (Welterweight)', '66.68 - 72.57KG (Middleweight)',\n",
              "       '72.57 - 79.38KG (Light-Heavyweight)', '50KM',\n",
              "       'Team Pursuit (4000M)', 'Figure Riding Individual',\n",
              "       'Figure Riding Team', 'Ice Hockey', '10M (Rating 1907)',\n",
              "       '10M (Rating 1919)', '12 Foot Dinghy', '12M (Rating 1907)',\n",
              "       '12M (Rating 1919)', '18 Foot Dinghy', '30M Sq', '40M Sq',\n",
              "       '6.5M (Rating 1919)', '6M (Rating 1907)', '6M (Rating 1919)',\n",
              "       '8M (Rating 1907)', '8M (Rating 1919)',\n",
              "       '100M Running Deer, Double Shots, Team',\n",
              "       '300+600M Free Rifle, Team, Prone', '300M Free Rifle, Prone, Team',\n",
              "       '300M Free Rifle, Standing, Team',\n",
              "       '50M Small Bore Rifle, Standing, Individual',\n",
              "       '600M Free Rifle, Prone', '600M Free Rifle, Team',\n",
              "       '- 60KG, One-Two Hand 3 Events (Featherweight)',\n",
              "       '+ 82.5KG, One-Two Hand 3 Events (Heavyweight)',\n",
              "       '60 - 67.5KG, One-Two Hand 3 Events (Lightweight)',\n",
              "       '67.5 - 75KG, One-Two Hand 3 Events (Middleweight)',\n",
              "       '75 - 82.5KG, One-Two Hand 3 E. (Light-Heavyweight)',\n",
              "       '+ 80KG (Heavyweight)', '75 - 80KG (Light-Heavyweight)',\n",
              "       '+ 82KG (Super Heavyweight)', '75 - 82KG (Light-Heavyweight)',\n",
              "       'Sidehorse Vault', 'Olympic Class Monotype',\n",
              "       '400, 600, 800M Free Rifle, Team', '600M Free Rifle, Individual',\n",
              "       '- 60KG, One-Two Hand 5 Events (Featherweight)',\n",
              "       '+ 82.5KG, One-Two Hand 5 Events (Heavyweight)',\n",
              "       '60 - 67.5KG, One-Two Hand 5 Events (Lightweight)',\n",
              "       '67.5 - 75KG, One-Two Hand 5 Events (Middleweight)',\n",
              "       '75 - 82.5KG, One-Two Hand 5 E. (Light-Heavyweight)',\n",
              "       '- 56KG (Bantamweight)', '+ 87KG (Heavyweight)',\n",
              "       '56 - 61KG (Featherweight)', '61 - 66KG (Lightweight)',\n",
              "       '66 - 72KG (Welterweight)', '72 - 79KG (Middleweight)',\n",
              "       '79 - 87KG (Light-Heavyweight)', '- 58KG (Bantamweight)',\n",
              "       '58 - 62KG (Featherweight)', '62 - 67.5KG (Lightweight)',\n",
              "       '1KM Pursuit', '12 Foot Dinghy Individual',\n",
              "       '- 60KG, Total (Featherweight)', '+ 82.5KG, Total (Heavyweight)',\n",
              "       '60 - 67.5KG, Total (Lightweight)',\n",
              "       '67.5 - 75KG, Total (Middleweight)',\n",
              "       '75 - 82.5KG, Total (Light-Heavyweight)',\n",
              "       '58 - 60KG (Featherweight)', '50KM Walk', '80M Hurdles',\n",
              "       '50.8 - 54KG (Bantamweight)', '54 - 57.15KG (Featherweight)',\n",
              "       'Floor Exercises', 'Indian Clubs', 'Tumbling',\n",
              "       'Two-Person Keelboat Open (Star)', '+ 87KG (Super Heavyweight)',\n",
              "       'Basketball', 'C-1 1000M (Canoe Single)', 'C-2 10000M',\n",
              "       'C-2 1000M (Canoe Double)', 'Folding K-1 10000M',\n",
              "       'Folding K-2 10000M', 'K-1 10000M', 'K-1 1000M (Kayak Single)',\n",
              "       'K-2 10000M', 'K-2 1000M (Kayak Double)', 'Handball',\n",
              "       '- 51KG (Flyweight)', '51 - 54KG (Bantamweight)',\n",
              "       '54 - 58KG (Featherweight)', '58 - 62KG (Lightweight)',\n",
              "       '62 - 67KG (Welterweight)', '67 - 73KG (Middleweight)',\n",
              "       '73 - 80KG (Light-Heavyweight)', 'C-1 10000M',\n",
              "       'K-1 500M (Kayak Single)', 'Dragon', 'Firefly Class',\n",
              "       'Swallow (Golondrina)', '- 56KG, Total (Bantamweight)',\n",
              "       '56 - 60KG, Total (Featherweight)', '- 52KG (Flyweight)',\n",
              "       '52 - 57KG (Bantamweight)', '57 - 63KG (Featherweight)',\n",
              "       '63 - 67KG (Lightweight)', '67 - 73KG (Welterweight)',\n",
              "       '73 - 79KG (Middleweight)', '57 - 61KG (Featherweight)',\n",
              "       '61 - 67KG (Lightweight)', '+ 81KG (Heavyweight)',\n",
              "       '54 - 57KG (Featherweight)', '57 - 60KG (Lightweight)',\n",
              "       '60 - 63.5KG (Light-Welterweight)', '63.5 - 67KG (Welterweight)',\n",
              "       '67 - 71KG (Light-Middleweight)', '71-75KG',\n",
              "       '75 - 81KG (Light-Heavyweight)', 'Balance Beam',\n",
              "       'Team, Portable Apparatus', 'Uneven Bars', '5.5M',\n",
              "       'Single-Handed Dinghy (Finn)',\n",
              "       '100M Running Deer, Single/Double Shots',\n",
              "       '50M Rifle 3 Positions (3X40 Shots)',\n",
              "       '+ 90KG, Total (Heavyweight)',\n",
              "       '82.5 - 90KG, Total (Middle-Heavyweight)', '100M Butterfly',\n",
              "       '200M Butterfly', '20KM Walk', 'Sharpie 12M2',\n",
              "       '4X100M Medley Relay', 'K-1 4X500M', 'K-2 500M (Kayak Double)',\n",
              "       'Flying Dutchman', '400M Individual Medley',\n",
              "       'K-4 1000M (Kayak Four)', 'Individual Pursuit',\n",
              "       '- 68KG (Lightweight)', '68 - 80KG (Middleweight)',\n",
              "       'Open Category', 'Volleyball', '+ 97KG (Heavyweight)',\n",
              "       '63 - 70KG (Lightweight)', '70 - 78KG (Welterweight)',\n",
              "       '78 - 87KG (Middleweight)', '87 - 97KG (Light-Heavyweight)',\n",
              "       '+ 97KG (Super Heavyweight)', '100M Breaststroke',\n",
              "       '200M Individual Medley', '800M Freestyle',\n",
              "       '- 48KG (Light-Flyweight)', '48 - 51KG (Flyweight)',\n",
              "       'Skeet (125 Targets)', 'Individual Fita Round', '100M Hurdles',\n",
              "       'C-1 (Canoe Single)', 'C-2 (Canoe Double)', 'K-1 (Kayak Single)',\n",
              "       '- 63KG (Lightweight)', '+ 93KG (Heavyweight)',\n",
              "       '63 - 70KG (Half-Middleweight)', '70 - 80KG (Middleweight)',\n",
              "       '80 - 93KG (Half-Heavyweight)',\n",
              "       'Fleet/Match Race Keelboat Open (Soling)', 'Tempest',\n",
              "       '50M Running Target (30+30 Shots)', '- 52KG, Total (Flyweight)',\n",
              "       '+ 110KG, Total (Super Heavyweight)',\n",
              "       '52 - 56KG, Total (Bantamweight)',\n",
              "       '91 - 110KG, Total (Heavyweight)', '+ 100KG (Super Heavyweight)',\n",
              "       '48 - 52KG (Flyweight)', '57 - 62KG (Featherweight)',\n",
              "       '62 - 68KG (Lightweight)', '68 - 74KG (Welterweight)',\n",
              "       '74 - 82KG (Middleweight)', '82 - 90KG (Light-Heavyweight)',\n",
              "       '90 - 100KG (Heavyweight)', 'C-1 500M (Canoe Single)',\n",
              "       'C-2 500M (Canoe Double)', 'Pair Without Coxswain (2-)',\n",
              "       'Quadruple Sculls With Coxswain (4X)',\n",
              "       'Quadruple Sculls Without Coxswain (4X)',\n",
              "       '470 - Two Person Dinghy', 'Tornado - Multihull', '- 60 KG',\n",
              "       '+ 95KG (Heavyweight)', '60 - 65KG (Half-Lightweight)',\n",
              "       '65 - 71KG (Lightweight)', '71 - 78KG (Half-Middleweight)',\n",
              "       '78 - 86KG (Middleweight)', '86 - 95KG (Half-Heavyweight)',\n",
              "       '100 - 110KG, Total (Heavyweight)',\n",
              "       '90 - 100KG, Total (First-Heavyweight)', 'Duet', 'Solo', '3000M',\n",
              "       'Heptathlon', '+ 91KG (Super Heavyweight)',\n",
              "       '81 - 91KG (Heavyweight)', 'K-4 500M (Kayak Four)', 'Points Race',\n",
              "       'Board (Windglider)', '10M Air Rifle (40 Shots)',\n",
              "       '10M Air Rifle (60 Shots)', '25M Pistol (30+30 Shots)',\n",
              "       '50M Rifle 3 Positions (3X20 Shots)', '50M Freestyle', 'Sprint',\n",
              "       'Board (Division Ii)', '10M Air Pistol (40 Shots)',\n",
              "       '10M Air Pistol (60 Shots)', '100 - 130KG (Super Heavyweight)',\n",
              "       'Individual (Fita Olympic Round - 70M)',\n",
              "       'Team (Fita Olympic Round - 70M)', 'Baseball',\n",
              "       '- 48KG (Extra-Lightweight)', '+ 72KG (Heavyweight)',\n",
              "       '48 - 52KG (Half-Lightweight)', '52 - 56KG (Lightweight)',\n",
              "       '56 - 61KG (Half-Middleweight)', '61 - 66KG (Middleweight)',\n",
              "       '66 - 72KG (Half-Heavyweight)', 'Coxless Four (4-)',\n",
              "       'Board (Lechner)', 'Single-Handed Dinghy (Europe)',\n",
              "       'Cross-Country', 'Group Competition', '+ 100KG (Heavyweight)',\n",
              "       '60 - 66KG (Half-Lightweight)', '66 - 73KG (Lightweight)',\n",
              "       '73 - 81KG (Half-Middleweight)', '81 - 90KG (Middleweight)',\n",
              "       '90 - 100KG (Half-Heavyweight)', 'Lightweight Coxless Four (4-)',\n",
              "       'Lightweight Double Sculls (2X)', 'Board (Mistral)',\n",
              "       'Single-Handed Dinghy Open (Laser)', 'Double Trap (120 Targets)',\n",
              "       'Double Trap (150 Targets)', 'Softball', 'Beach Volleyball',\n",
              "       '- 54KG, Total (Flyweight)', '+ 108KG, Total (Super Heavyweight)',\n",
              "       '54 - 59KG, Total (Bantamweight)',\n",
              "       '59 - 64KG, Total (Featherweight)',\n",
              "       '64 - 70KG, Total (Lightweight)',\n",
              "       '70 - 76KG, Total (Middleweight)',\n",
              "       '76 - 83KG, Total (Light-Heavyweight)',\n",
              "       '83 - 91KG, Total (Middle-Heavyweight)',\n",
              "       '91 - 99KG, Total (First-Heavyweight)',\n",
              "       '99 - 108KG, Total (Heavyweight)',\n",
              "       'Synchronized Diving 10M Platform',\n",
              "       'Synchronized Diving 3M Springboard', '20KM Race Walk',\n",
              "       '500M Time Trial', 'Keirin', 'Madison', 'Olympic Sprint',\n",
              "       '+ 78KG (Heavyweight)', '52 - 57KG (Lightweight)',\n",
              "       '57 - 63KG (Half-Middleweight)', '63 - 70KG (Middleweight)',\n",
              "       '70 - 78KG (Half-Heavyweight)', '49Er - Skiff',\n",
              "       '10M Running Target (30+30 Shots)', 'Skeet (75 Targets)',\n",
              "       'Trap (75 Targets)', '- 49 KG', '- 58 KG', '+ 67 KG', '+ 80 KG',\n",
              "       '49 - 57 KG', '57 - 67 KG', '58 - 68 KG', '68 - 80 KG', '+ 105KG',\n",
              "       '+ 75KG', '105KG', '48KG', '53KG', '56KG', '58KG', '62KG', '63KG',\n",
              "       '69KG', '75KG', '77KG', '85KG', '94KG', '48 - 54KG', '54 - 58KG',\n",
              "       '58 - 63KG', '63 - 69KG', '69 - 76KG', '76 - 85KG', '85 - 97KG',\n",
              "       '97 - 130KG', '48KG (Light Flywieght)', '60 - 64 KG', '64 - 69 KG',\n",
              "       '69 - 75 KG', 'Team Sprint', '- 48 KG', 'Star - Keelboat',\n",
              "       'Yngling - Keelboat', '- 48KG', '- 55KG', '48 - 55KG', '55 - 60KG',\n",
              "       '55 - 63KG', '60 - 66KG', '63 - 72KG', '66 - 74KG', '74 - 84KG',\n",
              "       '84 - 96KG', '96 - 120KG', 'Marathon 10KM',\n",
              "       'Finn - Heavyweight Dinghy', 'Laser - One Person Dinghy',\n",
              "       'Laser Radial - One Person Dinghy', 'Rs:X - Windsurfer',\n",
              "       'Synchronized 10M', 'Synchronized 3M', '200M Medley',\n",
              "       '400M Medley', '4X100M Freestyle', '4X100M Medley',\n",
              "       '4X200M Freestyle', '3000M Steeple', '+ 91KG', '46 - 49KG',\n",
              "       '51 KG', '52KG', '57 - 60KG', '60 KG', '75 - 81KG', '75 KG',\n",
              "       '81 - 91KG', 'C-1 (Single)', 'C-2 (Double)', 'K-1 (Single)',\n",
              "       'C-1 1000M', 'C-1 200M', 'C-2 1000M', 'K-1 1000M', 'K-1 200M',\n",
              "       'K-1 500M', 'K-2 1000M', 'K-2 200M', 'K-2 500M', 'K-4 1000M',\n",
              "       'K-4 500M', 'Individual Road', 'Time Trial', 'Omnium',\n",
              "       'Team Pursuit', 'Beam', 'Individual All-Around', '+ 100KG',\n",
              "       '+ 78KG', '48 - 52KG', '52 - 57KG', '57 - 63KG', '63 - 70KG',\n",
              "       '66 - 73KG', '70 - 78KG', '73 - 81KG', '81 - 90KG', '90 - 100KG',\n",
              "       'Coxless Four', 'Coxless Pair 2-', 'Double Sculls',\n",
              "       'Eight With Coxswain', 'Lightweight 4', 'Lightweight Doubles',\n",
              "       'Quadruple Sculls', 'Single Sculls', '470', 'Elliott 6M', 'Finn',\n",
              "       'Laser', 'Laser Radial', 'Rs:X', 'Star', '10M Air Pistol',\n",
              "       '10M Air Rifle', '25M Pistol', '25M Rapid Pistol', '50M Pistol',\n",
              "       '50M Rifle 3 Positions', '50M Rifle Prone', 'Double Trap 150',\n",
              "       'Skeet', 'Trap', '+105KG', '+75KG', '-56KG', 'Wf 120KG',\n",
              "       'Wf 48 KG', 'Wf 55 KG', 'Wf 60 KG', 'Wf 63 KG', 'Wf 66 KG',\n",
              "       'Wf 72 KG', 'Wf 74 KG', 'Wf 84 KG', 'Wf 96 KG', 'Wg 120 KG',\n",
              "       'Wg 55 KG', 'Wg 60 KG', 'Wg 66 KG', 'Wg 74 KG', 'Wg 84 KG',\n",
              "       'Wg 96 KG'], dtype=object)"
            ]
          },
          "metadata": {},
          "execution_count": 76
        }
      ]
    },
    {
      "cell_type": "code",
      "metadata": {
        "colab": {
          "base_uri": "https://localhost:8080/"
        },
        "id": "So_rS1eAUMgu",
        "outputId": "90762545-f12e-49ac-e53e-fdbc869d75d9"
      },
      "source": [
        "len(df['Event'].unique())"
      ],
      "execution_count": null,
      "outputs": [
        {
          "output_type": "execute_result",
          "data": {
            "text/plain": [
              "666"
            ]
          },
          "metadata": {},
          "execution_count": 77
        }
      ]
    },
    {
      "cell_type": "code",
      "metadata": {
        "colab": {
          "base_uri": "https://localhost:8080/",
          "height": 417
        },
        "id": "2OnicMoAUstQ",
        "outputId": "420c176c-8057-47b3-af4e-9c072aa953cf"
      },
      "source": [
        "df[df['Medal']== 'Gold']"
      ],
      "execution_count": null,
      "outputs": [
        {
          "output_type": "execute_result",
          "data": {
            "text/html": [
              "<div>\n",
              "<style scoped>\n",
              "    .dataframe tbody tr th:only-of-type {\n",
              "        vertical-align: middle;\n",
              "    }\n",
              "\n",
              "    .dataframe tbody tr th {\n",
              "        vertical-align: top;\n",
              "    }\n",
              "\n",
              "    .dataframe thead th {\n",
              "        text-align: right;\n",
              "    }\n",
              "</style>\n",
              "<table border=\"1\" class=\"dataframe\">\n",
              "  <thead>\n",
              "    <tr style=\"text-align: right;\">\n",
              "      <th></th>\n",
              "      <th>Year</th>\n",
              "      <th>City</th>\n",
              "      <th>Sport</th>\n",
              "      <th>Discipline</th>\n",
              "      <th>Athlete</th>\n",
              "      <th>Country</th>\n",
              "      <th>Gender</th>\n",
              "      <th>Event</th>\n",
              "      <th>Medal</th>\n",
              "    </tr>\n",
              "  </thead>\n",
              "  <tbody>\n",
              "    <tr>\n",
              "      <th>0</th>\n",
              "      <td>1896</td>\n",
              "      <td>Athens</td>\n",
              "      <td>Aquatics</td>\n",
              "      <td>Swimming</td>\n",
              "      <td>HAJOS, Alfred</td>\n",
              "      <td>HUN</td>\n",
              "      <td>Men</td>\n",
              "      <td>100M Freestyle</td>\n",
              "      <td>Gold</td>\n",
              "    </tr>\n",
              "    <tr>\n",
              "      <th>3</th>\n",
              "      <td>1896</td>\n",
              "      <td>Athens</td>\n",
              "      <td>Aquatics</td>\n",
              "      <td>Swimming</td>\n",
              "      <td>MALOKINIS, Ioannis</td>\n",
              "      <td>GRE</td>\n",
              "      <td>Men</td>\n",
              "      <td>100M Freestyle For Sailors</td>\n",
              "      <td>Gold</td>\n",
              "    </tr>\n",
              "    <tr>\n",
              "      <th>6</th>\n",
              "      <td>1896</td>\n",
              "      <td>Athens</td>\n",
              "      <td>Aquatics</td>\n",
              "      <td>Swimming</td>\n",
              "      <td>HAJOS, Alfred</td>\n",
              "      <td>HUN</td>\n",
              "      <td>Men</td>\n",
              "      <td>1200M Freestyle</td>\n",
              "      <td>Gold</td>\n",
              "    </tr>\n",
              "    <tr>\n",
              "      <th>9</th>\n",
              "      <td>1896</td>\n",
              "      <td>Athens</td>\n",
              "      <td>Aquatics</td>\n",
              "      <td>Swimming</td>\n",
              "      <td>NEUMANN, Paul</td>\n",
              "      <td>AUT</td>\n",
              "      <td>Men</td>\n",
              "      <td>400M Freestyle</td>\n",
              "      <td>Gold</td>\n",
              "    </tr>\n",
              "    <tr>\n",
              "      <th>13</th>\n",
              "      <td>1896</td>\n",
              "      <td>Athens</td>\n",
              "      <td>Athletics</td>\n",
              "      <td>Athletics</td>\n",
              "      <td>BURKE, Thomas</td>\n",
              "      <td>USA</td>\n",
              "      <td>Men</td>\n",
              "      <td>100M</td>\n",
              "      <td>Gold</td>\n",
              "    </tr>\n",
              "    <tr>\n",
              "      <th>...</th>\n",
              "      <td>...</td>\n",
              "      <td>...</td>\n",
              "      <td>...</td>\n",
              "      <td>...</td>\n",
              "      <td>...</td>\n",
              "      <td>...</td>\n",
              "      <td>...</td>\n",
              "      <td>...</td>\n",
              "      <td>...</td>\n",
              "    </tr>\n",
              "    <tr>\n",
              "      <th>31145</th>\n",
              "      <td>2012</td>\n",
              "      <td>London</td>\n",
              "      <td>Wrestling</td>\n",
              "      <td>Wrestling Freestyle</td>\n",
              "      <td>NOROOZI, Omid Haji</td>\n",
              "      <td>IRI</td>\n",
              "      <td>Men</td>\n",
              "      <td>Wg 60 KG</td>\n",
              "      <td>Gold</td>\n",
              "    </tr>\n",
              "    <tr>\n",
              "      <th>31149</th>\n",
              "      <td>2012</td>\n",
              "      <td>London</td>\n",
              "      <td>Wrestling</td>\n",
              "      <td>Wrestling Freestyle</td>\n",
              "      <td>KIM, Hyeonwoo</td>\n",
              "      <td>KOR</td>\n",
              "      <td>Men</td>\n",
              "      <td>Wg 66 KG</td>\n",
              "      <td>Gold</td>\n",
              "    </tr>\n",
              "    <tr>\n",
              "      <th>31153</th>\n",
              "      <td>2012</td>\n",
              "      <td>London</td>\n",
              "      <td>Wrestling</td>\n",
              "      <td>Wrestling Freestyle</td>\n",
              "      <td>VLASOV, Roman</td>\n",
              "      <td>RUS</td>\n",
              "      <td>Men</td>\n",
              "      <td>Wg 74 KG</td>\n",
              "      <td>Gold</td>\n",
              "    </tr>\n",
              "    <tr>\n",
              "      <th>31157</th>\n",
              "      <td>2012</td>\n",
              "      <td>London</td>\n",
              "      <td>Wrestling</td>\n",
              "      <td>Wrestling Freestyle</td>\n",
              "      <td>KHUGAEV, Alan</td>\n",
              "      <td>RUS</td>\n",
              "      <td>Men</td>\n",
              "      <td>Wg 84 KG</td>\n",
              "      <td>Gold</td>\n",
              "    </tr>\n",
              "    <tr>\n",
              "      <th>31161</th>\n",
              "      <td>2012</td>\n",
              "      <td>London</td>\n",
              "      <td>Wrestling</td>\n",
              "      <td>Wrestling Freestyle</td>\n",
              "      <td>REZAEI, Ghasem Gholamreza</td>\n",
              "      <td>IRI</td>\n",
              "      <td>Men</td>\n",
              "      <td>Wg 96 KG</td>\n",
              "      <td>Gold</td>\n",
              "    </tr>\n",
              "  </tbody>\n",
              "</table>\n",
              "<p>10486 rows × 9 columns</p>\n",
              "</div>"
            ],
            "text/plain": [
              "       Year    City      Sport  ... Gender                       Event Medal\n",
              "0      1896  Athens   Aquatics  ...    Men              100M Freestyle  Gold\n",
              "3      1896  Athens   Aquatics  ...    Men  100M Freestyle For Sailors  Gold\n",
              "6      1896  Athens   Aquatics  ...    Men             1200M Freestyle  Gold\n",
              "9      1896  Athens   Aquatics  ...    Men              400M Freestyle  Gold\n",
              "13     1896  Athens  Athletics  ...    Men                        100M  Gold\n",
              "...     ...     ...        ...  ...    ...                         ...   ...\n",
              "31145  2012  London  Wrestling  ...    Men                    Wg 60 KG  Gold\n",
              "31149  2012  London  Wrestling  ...    Men                    Wg 66 KG  Gold\n",
              "31153  2012  London  Wrestling  ...    Men                    Wg 74 KG  Gold\n",
              "31157  2012  London  Wrestling  ...    Men                    Wg 84 KG  Gold\n",
              "31161  2012  London  Wrestling  ...    Men                    Wg 96 KG  Gold\n",
              "\n",
              "[10486 rows x 9 columns]"
            ]
          },
          "metadata": {},
          "execution_count": 81
        }
      ]
    },
    {
      "cell_type": "code",
      "metadata": {
        "colab": {
          "base_uri": "https://localhost:8080/"
        },
        "id": "1PrSStHMVVq1",
        "outputId": "4a0fbe71-245c-43df-a058-d4bd41b08ddd"
      },
      "source": [
        "len(df[df['Medal']== 'Gold'])"
      ],
      "execution_count": null,
      "outputs": [
        {
          "output_type": "execute_result",
          "data": {
            "text/plain": [
              "10486"
            ]
          },
          "metadata": {},
          "execution_count": 82
        }
      ]
    },
    {
      "cell_type": "code",
      "metadata": {
        "colab": {
          "base_uri": "https://localhost:8080/"
        },
        "id": "DdfuIeD1WOzb",
        "outputId": "4816e512-7d72-408b-8210-05198e0f043b"
      },
      "source": [
        "for Medal in df['Medal'].unique():\n",
        "    print(Medal, \":\", len(df[df['Medal'] == Medal]))"
      ],
      "execution_count": null,
      "outputs": [
        {
          "output_type": "stream",
          "name": "stdout",
          "text": [
            "Gold : 10486\n",
            "Silver : 10310\n",
            "Bronze : 10369\n"
          ]
        }
      ]
    },
    {
      "cell_type": "code",
      "metadata": {
        "colab": {
          "base_uri": "https://localhost:8080/"
        },
        "id": "Hr10uhalXd7N",
        "outputId": "4b97d352-3405-4ca3-ad35-ee36249504f2"
      },
      "source": [
        "for Sport in df['Sport'].unique():\n",
        "    print(Sport, \":\", len(df[df['Sport'] == Sport]))"
      ],
      "execution_count": null,
      "outputs": [
        {
          "output_type": "stream",
          "name": "stdout",
          "text": [
            "Aquatics : 4170\n",
            "Athletics : 3638\n",
            "Cycling : 1105\n",
            "Fencing : 1613\n",
            "Gymnastics : 2307\n",
            "Shooting : 1150\n",
            "Tennis : 296\n",
            "Weightlifting : 593\n",
            "Wrestling : 1212\n",
            "Archery : 329\n",
            "Basque Pelota : 4\n",
            "Cricket : 24\n",
            "Croquet : 8\n",
            "Equestrian : 939\n",
            "Football : 1497\n",
            "Golf : 30\n",
            "Polo : 66\n",
            "Rowing : 2667\n",
            "Rugby : 192\n",
            "Sailing : 1109\n",
            "Tug of War : 94\n",
            "Boxing : 894\n",
            "Lacrosse : 59\n",
            "Roque : 3\n",
            "Hockey : 1422\n",
            "Jeu de paume : 3\n",
            "Rackets : 10\n",
            "Skating : 27\n",
            "Water Motorsports : 5\n",
            "Modern Pentathlon : 180\n",
            "Ice Hockey : 27\n",
            "Basketball : 1012\n",
            "Canoe / Kayak : 1002\n",
            "Handball : 973\n",
            "Judo : 491\n",
            "Volleyball : 994\n",
            "Table Tennis : 144\n",
            "Badminton : 144\n",
            "Baseball : 335\n",
            "Softball : 180\n",
            "Taekwondo : 112\n",
            "Triathlon : 24\n",
            "Canoe : 81\n"
          ]
        }
      ]
    },
    {
      "cell_type": "markdown",
      "metadata": {
        "id": "yWJBFLsgITIk"
      },
      "source": [
        "## Which sport is having most number of medals so far?(Top 5)"
      ]
    },
    {
      "cell_type": "code",
      "metadata": {
        "colab": {
          "base_uri": "https://localhost:8080/"
        },
        "id": "S-vKYIHozySe",
        "outputId": "d72dc7f8-b027-44c2-f0ad-546474892434"
      },
      "source": [
        "df.Sport.value_counts().head()"
      ],
      "execution_count": 20,
      "outputs": [
        {
          "output_type": "execute_result",
          "data": {
            "text/plain": [
              "Aquatics      4170\n",
              "Athletics     3638\n",
              "Rowing        2667\n",
              "Gymnastics    2307\n",
              "Fencing       1613\n",
              "Name: Sport, dtype: int64"
            ]
          },
          "metadata": {},
          "execution_count": 20
        }
      ]
    },
    {
      "cell_type": "code",
      "metadata": {
        "colab": {
          "base_uri": "https://localhost:8080/"
        },
        "id": "RZbHuDtR0A7E",
        "outputId": "3f852f74-f228-4a2d-9f91-4c02e9bea1fb"
      },
      "source": [
        "df.Event.value_counts().head()"
      ],
      "execution_count": 22,
      "outputs": [
        {
          "output_type": "execute_result",
          "data": {
            "text/plain": [
              "Football            1497\n",
              "Hockey              1422\n",
              "Team Competition    1147\n",
              "Basketball          1012\n",
              "Handball             973\n",
              "Name: Event, dtype: int64"
            ]
          },
          "metadata": {},
          "execution_count": 22
        }
      ]
    },
    {
      "cell_type": "code",
      "metadata": {
        "colab": {
          "base_uri": "https://localhost:8080/"
        },
        "id": "1zxnrVJDZeNb",
        "outputId": "7d48d0af-8b73-4ea8-c070-00756036dc91"
      },
      "source": [
        "for Sport in df['Sport'].unique():\n",
        "    print(Sport, \":\", len(df[df['Sport'] == Sport]))"
      ],
      "execution_count": 19,
      "outputs": [
        {
          "output_type": "stream",
          "name": "stdout",
          "text": [
            "Aquatics : 4170\n",
            "Athletics : 3638\n",
            "Cycling : 1105\n",
            "Fencing : 1613\n",
            "Gymnastics : 2307\n",
            "Shooting : 1150\n",
            "Tennis : 296\n",
            "Weightlifting : 593\n",
            "Wrestling : 1212\n",
            "Archery : 329\n",
            "Basque Pelota : 4\n",
            "Cricket : 24\n",
            "Croquet : 8\n",
            "Equestrian : 939\n",
            "Football : 1497\n",
            "Golf : 30\n",
            "Polo : 66\n",
            "Rowing : 2667\n",
            "Rugby : 192\n",
            "Sailing : 1109\n",
            "Tug of War : 94\n",
            "Boxing : 894\n",
            "Lacrosse : 59\n",
            "Roque : 3\n",
            "Hockey : 1422\n",
            "Jeu de paume : 3\n",
            "Rackets : 10\n",
            "Skating : 27\n",
            "Water Motorsports : 5\n",
            "Modern Pentathlon : 180\n",
            "Ice Hockey : 27\n",
            "Basketball : 1012\n",
            "Canoe / Kayak : 1002\n",
            "Handball : 973\n",
            "Judo : 491\n",
            "Volleyball : 994\n",
            "Table Tennis : 144\n",
            "Badminton : 144\n",
            "Baseball : 335\n",
            "Softball : 180\n",
            "Taekwondo : 112\n",
            "Triathlon : 24\n",
            "Canoe : 81\n"
          ]
        }
      ]
    },
    {
      "cell_type": "code",
      "metadata": {
        "colab": {
          "base_uri": "https://localhost:8080/"
        },
        "id": "Jq4QHPFyg-W8",
        "outputId": "9bf01f17-6dd8-40c5-e906-0dc7a4f1608d"
      },
      "source": [
        "for Event in df['Event'].unique():\n",
        "    print(Event, \":\", len(df[df['Event'] == Event]))"
      ],
      "execution_count": null,
      "outputs": [
        {
          "output_type": "stream",
          "name": "stdout",
          "text": [
            "100M Freestyle : 148\n",
            "100M Freestyle For Sailors : 3\n",
            "1200M Freestyle : 3\n",
            "400M Freestyle : 144\n",
            "100M : 142\n",
            "110M Hurdles : 80\n",
            "1500M : 114\n",
            "400M : 119\n",
            "800M : 126\n",
            "Discus Throw : 141\n",
            "High Jump : 151\n",
            "Long Jump : 132\n",
            "Marathon : 105\n",
            "Pole Vault : 100\n",
            "Shot Put : 132\n",
            "Triple Jump : 96\n",
            "Individual Road Race : 76\n",
            "100KM : 5\n",
            "10KM : 9\n",
            "12-Hour Race : 2\n",
            "1KM Time Trial : 57\n",
            "Sprint Indivual : 69\n",
            "Foil Individual : 141\n",
            "Foil, Masters : 5\n",
            "Sabre Individual : 90\n",
            "Horizontal Bar : 72\n",
            "Parallel Bars : 72\n",
            "Pommel Horse : 69\n",
            "Rings : 73\n",
            "Rope Climbing : 13\n",
            "Team, Horizontal Bar : 11\n",
            "Team, Parallel Bars : 19\n",
            "Vault : 123\n",
            "25M Army Pistol : 3\n",
            "25M Rapid Fire Pistol (60 Shots) : 69\n",
            "50M Pistol (60 Shots) : 66\n",
            "Army Rifle, 200M : 3\n",
            "Army Rifle, 300M : 3\n",
            "Doubles : 318\n",
            "Singles : 168\n",
            "Heavyweight - One Hand Lift : 3\n",
            "Heavyweight - Two Hand Lift : 6\n",
            "Open Event : 3\n",
            "1500M Freestyle : 78\n",
            "200M Backstroke : 79\n",
            "200M Freestyle : 78\n",
            "200M Obstacle Event : 3\n",
            "200M Team Swimming : 15\n",
            "4000M Freestyle : 3\n",
            "Underwater Swimming : 3\n",
            "Water Polo : 958\n",
            "Au Chapelet, 33M : 3\n",
            "Au Chapelet, 50M : 3\n",
            "Au Cordon Doré, 33M : 3\n",
            "Au Cordon Doré, 50M : 3\n",
            "Sur La Perche À La Herse : 3\n",
            "Sur La Perche À La Pyramide : 3\n",
            "200M : 129\n",
            "200M Hurdles : 6\n",
            "3000M Steeplechase : 72\n",
            "4000M Steeplechase : 3\n",
            "400M Hurdles : 99\n",
            "5000M Team : 10\n",
            "60M : 6\n",
            "Hammer Throw : 90\n",
            "High Jump, Standing : 12\n",
            "Long Jump, Standing : 12\n",
            "Triple Jump, Standing : 6\n",
            "Cesta Punta : 4\n",
            "Cricket : 24\n",
            "Double : 8\n",
            "Individual 1 Ball : 3\n",
            "Individual 2 Balls : 3\n",
            "25 Kilometres : 3\n",
            "Individual : 324\n",
            "Long Jump Individual : 3\n",
            "Épée Individual : 93\n",
            "Épée, Amateurs And Masters : 3\n",
            "Épée, Masters : 3\n",
            "Sabre, Masters : 3\n",
            "Football : 1497\n",
            "Individual All-Round : 143\n",
            "Polo : 66\n",
            "Eight With Coxswain (8+) : 918\n",
            "Four-Oared Shell With Coxswain (4-) : 359\n",
            "Pair-Oared Shell With Coxswain (2+) : 162\n",
            "Single Sculls (1X) : 104\n",
            "Rugby : 192\n",
            "0.5-1T : 10\n",
            "10-20T : 4\n",
            "3-10T : 3\n",
            "Open Class : 9\n",
            "50M Army Pistol, Team : 42\n",
            "Army Rifle, 300M, 3 Positions : 7\n",
            "Army Rifle, 300M, Kneeling : 3\n",
            "Army Rifle, 300M, Prone : 6\n",
            "Army Rifle, 300M, Standing : 6\n",
            "Free Rifle, Team : 66\n",
            "Trap (125 Targets) : 60\n",
            "Mixed Doubles : 32\n",
            "Tug Of War : 94\n",
            "10M Platform : 145\n",
            "Plunge For Distance : 3\n",
            "100M Backstroke : 136\n",
            "400M Breaststroke : 9\n",
            "4X50Y Freestyle Relay : 12\n",
            "50Y Freestyle (45.72M) : 3\n",
            "880Y Freestyle (804.66M) : 3\n",
            "Double American Round (60Y - 50Y - 40Y) : 3\n",
            "Double Columbia Round (50Y - 40Y - 30Y) : 3\n",
            "Double National Round (60Y - 50Y) : 3\n",
            "Double York Round (100Y - 80Y - 60Y) : 3\n",
            "Team Round 60Y : 12\n",
            "Teams Fita Round : 24\n",
            "4Miles Team : 10\n",
            "56LB Weight Throw (25.4KG) : 6\n",
            "Decathlon : 73\n",
            "Triathlon (Long Jump / Shot Put / 100 Yards) : 3\n",
            "- 47.63KG (Flyweight) : 2\n",
            "+ 71.67KG (Heavyweight) : 9\n",
            "47.63 - 52.16KG (Bantamweight) : 2\n",
            "52.16 - 56.7KG (Featherweight) : 3\n",
            "56.7 - 61.24KG (Lightweight) : 3\n",
            "61.24 - 65.77KG (Welterweight) : 4\n",
            "65.77 - 71.67KG (Middleweight) : 2\n",
            "1 Mile (1609.3M) : 3\n",
            "1/2 Mile (804.7M) : 3\n",
            "1/3 Mile (536.5M) : 3\n",
            "1/4 Mile (402.3M) : 3\n",
            "2 Miles (3.218KM) : 3\n",
            "25 Miles (40.232KM) : 3\n",
            "5 Miles (8.046KM) : 3\n",
            "Foil Team : 505\n",
            "Stick, Single : 3\n",
            "Team : 908\n",
            "Club Swinging : 3\n",
            "Combined 3 Events : 3\n",
            "Combined 4 Events : 3\n",
            "Team Competition : 1147\n",
            "Lacrosse : 59\n",
            "Coxless Pair (2-) : 132\n",
            "Double Sculls (2X) : 186\n",
            "Four Without Coxswain (4-) : 260\n",
            "All-Around Dumbbell Contest : 3\n",
            "- 47.6KG (Light-Flyweight) : 3\n",
            "47.6 - 52.16KG (Flyweight) : 3\n",
            "52.16 - 56.7KG (Bantamweight) : 3\n",
            "56.7 - 61.23KG (Featherweight) : 3\n",
            "61.23 - 65.77KG (Lightweight) : 3\n",
            "65.77 - 71.67KG (Welterweight) : 3\n",
            "3M Springboard : 139\n",
            "200M Breaststroke : 135\n",
            "4X200M Freestyle Relay : 380\n",
            "Continental Style 50M : 3\n",
            "National Round (60Y - 50Y) : 3\n",
            "York Round (100Y - 80Y - 60Y) : 3\n",
            "10Miles Walk (16093M) : 3\n",
            "3200M Steeplechase : 3\n",
            "3500M Walk : 3\n",
            "3Miles Team (4828M) : 9\n",
            "4X400M Relay : 451\n",
            "5 Miles (8047M) : 3\n",
            "Discus Throw Ancient Style : 3\n",
            "Javelin Throw : 129\n",
            "Javelin Throw Freestyle : 3\n",
            "- 52.62KG (Bantamweight) : 3\n",
            "52.62 - 57.15KG (Featherweight) : 3\n",
            "57.15 - 63.5KG (Lightweight) : 3\n",
            "63.5 - 71.67KG (Middleweight) : 3\n",
            "1980 Yards Pursuit, Team : 12\n",
            "2000M Tandem : 78\n",
            "20KM : 3\n",
            "5000M : 87\n",
            "One Lap (660Y) Sprint : 3\n",
            "Épée Team : 385\n",
            "Sabre Team : 382\n",
            "Hockey : 1422\n",
            "12M : 47\n",
            "6M : 102\n",
            "7M : 12\n",
            "8M : 93\n",
            "1000Y Free Rifle, Prone : 3\n",
            "100M Running Deer, Double Shots : 12\n",
            "100M Running Deer, Single Shots : 12\n",
            "100M Running Deer, Single Shots, Team : 51\n",
            "25Y Small Bore Rifle, Disappearing Target : 3\n",
            "25Y Small Bore Rifle, Moving Target : 3\n",
            "300M Free Rifle 3 Positions (3X40 Shots) : 30\n",
            "50+100Y Small Bore Rifle, Team : 12\n",
            "50M Rifle Prone (60 Shots) : 63\n",
            "50Y Army Pistol, Team : 12\n",
            "Clay Pigeons, Team : 72\n",
            "Rifle, Team : 36\n",
            "Pairs : 12\n",
            "Special Figures : 3\n",
            "Doubles Indoor : 12\n",
            "Singles Indoor : 12\n",
            "8M Class C : 2\n",
            "Class B Up To 60 Feet : 2\n",
            "Open Class A : 1\n",
            "- 54KG (Bantamweight) : 3\n",
            "+ 73KG (Heavyweight) : 3\n",
            "54 - 60.3KG (Featherweight) : 3\n",
            "60.3 - 66.6KG (Lightweight) : 3\n",
            "66.6 - 73KG (Middleweight) : 6\n",
            "- 66.6KG (Lightweight) : 3\n",
            "+ 93KG (Super Heavyweight) : 3\n",
            "73 - 93KG (Light-Heavyweight) : 3\n",
            "Plain High Diving : 9\n",
            "4X100M Freestyle Relay : 438\n",
            "10000M : 90\n",
            "10000M Walk : 21\n",
            "3000M Team : 41\n",
            "4X100M Relay : 533\n",
            "Cross Country Individual : 9\n",
            "Cross Country Team : 36\n",
            "Discus Throw, Both Hands : 3\n",
            "Javelin Throw, Both Hands : 3\n",
            "Pentathlon : 25\n",
            "Shot Put, Both Hands : 3\n",
            "Individual Time Trial : 36\n",
            "Team Time Trial : 191\n",
            "Team, Free System : 117\n",
            "Team, Swedish System : 147\n",
            "Individual Competition : 75\n",
            "Coxed Fours Jugriggers : 15\n",
            "10M : 22\n",
            "25M Small Bore Rifle, Team : 12\n",
            "25M Small Rifle : 3\n",
            "30M Army Pistol, Team : 27\n",
            "50M Small Bore Rifle, Team : 27\n",
            "600M Free Rifle : 3\n",
            "Mixed Doubles Indoor : 6\n",
            "- 60KG (Featherweight) : 9\n",
            "+ 82.5KG (Super Heavyweight) : 9\n",
            "60 - 67.5KG (Lightweight) : 12\n",
            "67.5 - 75KG (Middleweight) : 15\n",
            "75 - 82.5KG (Light-Heavyweight) : 9\n",
            "Fixed Bird Target Large Birds : 3\n",
            "Fixed Bird Target Large Birds Teams : 6\n",
            "Fixed Bird Target Small Bird, Teams : 6\n",
            "Fixed Bird Target Small Birds : 3\n",
            "Moving Bird Target 28M Teams : 24\n",
            "Moving Bird Target 33M Teams : 16\n",
            "Moving Bird Target 50M Teams : 16\n",
            "Moving Bird Target, 28M : 2\n",
            "Moving Bird Target, 33M : 2\n",
            "Moving Bird Target, 50M : 2\n",
            "3000M Walk : 3\n",
            "- 50.8KG (Flyweight) : 15\n",
            "+ 79.38KG (Heavyweight) : 15\n",
            "50.8 - 53.52KG (Bantamweight) : 9\n",
            "53.52 - 57.15KG (Featherweight) : 9\n",
            "57.15 - 61.24KG (Lightweight) : 15\n",
            "61.24 - 66.68KG (Welterweight) : 15\n",
            "66.68 - 72.57KG (Middleweight) : 15\n",
            "72.57 - 79.38KG (Light-Heavyweight) : 15\n",
            "50KM : 6\n",
            "Team Pursuit (4000M) : 262\n",
            "Figure Riding Individual : 3\n",
            "Figure Riding Team : 11\n",
            "Ice Hockey : 27\n",
            "10M (Rating 1907) : 7\n",
            "10M (Rating 1919) : 7\n",
            "12 Foot Dinghy : 4\n",
            "12M (Rating 1907) : 9\n",
            "12M (Rating 1919) : 9\n",
            "18 Foot Dinghy : 2\n",
            "30M Sq : 4\n",
            "40M Sq : 8\n",
            "6.5M (Rating 1919) : 6\n",
            "6M (Rating 1907) : 9\n",
            "6M (Rating 1919) : 6\n",
            "8M (Rating 1907) : 9\n",
            "8M (Rating 1919) : 14\n",
            "100M Running Deer, Double Shots, Team : 33\n",
            "300+600M Free Rifle, Team, Prone : 15\n",
            "300M Free Rifle, Prone, Team : 15\n",
            "300M Free Rifle, Standing, Team : 15\n",
            "50M Small Bore Rifle, Standing, Individual : 3\n",
            "600M Free Rifle, Prone : 3\n",
            "600M Free Rifle, Team : 15\n",
            "- 60KG, One-Two Hand 3 Events (Featherweight) : 3\n",
            "+ 82.5KG, One-Two Hand 3 Events (Heavyweight) : 3\n",
            "60 - 67.5KG, One-Two Hand 3 Events (Lightweight) : 3\n",
            "67.5 - 75KG, One-Two Hand 3 Events (Middleweight) : 3\n",
            "75 - 82.5KG, One-Two Hand 3 E. (Light-Heavyweight) : 3\n",
            "+ 80KG (Heavyweight) : 11\n",
            "75 - 80KG (Light-Heavyweight) : 3\n",
            "+ 82KG (Super Heavyweight) : 3\n",
            "75 - 82KG (Light-Heavyweight) : 3\n",
            "Sidehorse Vault : 3\n",
            "Olympic Class Monotype : 9\n",
            "400, 600, 800M Free Rifle, Team : 18\n",
            "600M Free Rifle, Individual : 3\n",
            "- 60KG, One-Two Hand 5 Events (Featherweight) : 3\n",
            "+ 82.5KG, One-Two Hand 5 Events (Heavyweight) : 3\n",
            "60 - 67.5KG, One-Two Hand 5 Events (Lightweight) : 3\n",
            "67.5 - 75KG, One-Two Hand 5 Events (Middleweight) : 3\n",
            "75 - 82.5KG, One-Two Hand 5 E. (Light-Heavyweight) : 3\n",
            "- 56KG (Bantamweight) : 18\n",
            "+ 87KG (Heavyweight) : 24\n",
            "56 - 61KG (Featherweight) : 18\n",
            "61 - 66KG (Lightweight) : 18\n",
            "66 - 72KG (Welterweight) : 18\n",
            "72 - 79KG (Middleweight) : 18\n",
            "79 - 87KG (Light-Heavyweight) : 42\n",
            "- 58KG (Bantamweight) : 6\n",
            "58 - 62KG (Featherweight) : 3\n",
            "62 - 67.5KG (Lightweight) : 3\n",
            "1KM Pursuit : 3\n",
            "12 Foot Dinghy Individual : 3\n",
            "- 60KG, Total (Featherweight) : 9\n",
            "+ 82.5KG, Total (Heavyweight) : 12\n",
            "60 - 67.5KG, Total (Lightweight) : 45\n",
            "67.5 - 75KG, Total (Middleweight) : 45\n",
            "75 - 82.5KG, Total (Light-Heavyweight) : 44\n",
            "58 - 60KG (Featherweight) : 3\n",
            "50KM Walk : 54\n",
            "80M Hurdles : 24\n",
            "50.8 - 54KG (Bantamweight) : 6\n",
            "54 - 57.15KG (Featherweight) : 6\n",
            "Floor Exercises : 112\n",
            "Indian Clubs : 3\n",
            "Tumbling : 3\n",
            "Two-Person Keelboat Open (Star) : 90\n",
            "+ 87KG (Super Heavyweight) : 18\n",
            "Basketball : 1012\n",
            "C-1 1000M (Canoe Single) : 51\n",
            "C-2 10000M : 24\n",
            "C-2 1000M (Canoe Double) : 102\n",
            "Folding K-1 10000M : 3\n",
            "Folding K-2 10000M : 6\n",
            "K-1 10000M : 12\n",
            "K-1 1000M (Kayak Single) : 51\n",
            "K-2 10000M : 24\n",
            "K-2 1000M (Kayak Double) : 102\n",
            "Handball : 973\n",
            "- 51KG (Flyweight) : 19\n",
            "51 - 54KG (Bantamweight) : 63\n",
            "54 - 58KG (Featherweight) : 3\n",
            "58 - 62KG (Lightweight) : 3\n",
            "62 - 67KG (Welterweight) : 3\n",
            "67 - 73KG (Middleweight) : 3\n",
            "73 - 80KG (Light-Heavyweight) : 3\n",
            "C-1 10000M : 9\n",
            "K-1 500M (Kayak Single) : 75\n",
            "Dragon : 63\n",
            "Firefly Class : 3\n",
            "Swallow (Golondrina) : 6\n",
            "- 56KG, Total (Bantamweight) : 39\n",
            "56 - 60KG, Total (Featherweight) : 36\n",
            "- 52KG (Flyweight) : 36\n",
            "52 - 57KG (Bantamweight) : 78\n",
            "57 - 63KG (Featherweight) : 24\n",
            "63 - 67KG (Lightweight) : 12\n",
            "67 - 73KG (Welterweight) : 24\n",
            "73 - 79KG (Middleweight) : 24\n",
            "57 - 61KG (Featherweight) : 12\n",
            "61 - 67KG (Lightweight) : 12\n",
            "+ 81KG (Heavyweight) : 32\n",
            "54 - 57KG (Featherweight) : 60\n",
            "57 - 60KG (Lightweight) : 60\n",
            "60 - 63.5KG (Light-Welterweight) : 52\n",
            "63.5 - 67KG (Welterweight) : 52\n",
            "67 - 71KG (Light-Middleweight) : 52\n",
            "71-75KG : 52\n",
            "75 - 81KG (Light-Heavyweight) : 60\n",
            "Balance Beam : 46\n",
            "Team, Portable Apparatus : 48\n",
            "Uneven Bars : 50\n",
            "5.5M : 47\n",
            "Single-Handed Dinghy (Finn) : 42\n",
            "100M Running Deer, Single/Double Shots : 6\n",
            "50M Rifle 3 Positions (3X40 Shots) : 45\n",
            "+ 90KG, Total (Heavyweight) : 15\n",
            "82.5 - 90KG, Total (Middle-Heavyweight) : 33\n",
            "100M Butterfly : 81\n",
            "200M Butterfly : 81\n",
            "20KM Walk : 45\n",
            "Sharpie 12M2 : 6\n",
            "4X100M Medley Relay : 387\n",
            "K-1 4X500M : 12\n",
            "K-2 500M (Kayak Double) : 132\n",
            "Flying Dutchman : 54\n",
            "400M Individual Medley : 72\n",
            "K-4 1000M (Kayak Four) : 144\n",
            "Individual Pursuit : 51\n",
            "- 68KG (Lightweight) : 4\n",
            "68 - 80KG (Middleweight) : 4\n",
            "Open Category : 20\n",
            "Volleyball : 934\n",
            "+ 97KG (Heavyweight) : 6\n",
            "63 - 70KG (Lightweight) : 12\n",
            "70 - 78KG (Welterweight) : 12\n",
            "78 - 87KG (Middleweight) : 12\n",
            "87 - 97KG (Light-Heavyweight) : 12\n",
            "+ 97KG (Super Heavyweight) : 6\n",
            "100M Breaststroke : 72\n",
            "200M Individual Medley : 54\n",
            "800M Freestyle : 36\n",
            "- 48KG (Light-Flyweight) : 78\n",
            "48 - 51KG (Flyweight) : 44\n",
            "Skeet (125 Targets) : 33\n",
            "Individual Fita Round : 30\n",
            "100M Hurdles : 34\n",
            "C-1 (Canoe Single) : 18\n",
            "C-2 (Canoe Double) : 36\n",
            "K-1 (Kayak Single) : 36\n",
            "- 63KG (Lightweight) : 7\n",
            "+ 93KG (Heavyweight) : 8\n",
            "63 - 70KG (Half-Middleweight) : 8\n",
            "70 - 80KG (Middleweight) : 8\n",
            "80 - 93KG (Half-Heavyweight) : 8\n",
            "Fleet/Match Race Keelboat Open (Soling) : 72\n",
            "Tempest : 12\n",
            "50M Running Target (30+30 Shots) : 21\n",
            "- 52KG, Total (Flyweight) : 18\n",
            "+ 110KG, Total (Super Heavyweight) : 18\n",
            "52 - 56KG, Total (Bantamweight) : 3\n",
            "91 - 110KG, Total (Heavyweight) : 6\n",
            "+ 100KG (Super Heavyweight) : 24\n",
            "48 - 52KG (Flyweight) : 42\n",
            "57 - 62KG (Featherweight) : 42\n",
            "62 - 68KG (Lightweight) : 42\n",
            "68 - 74KG (Welterweight) : 42\n",
            "74 - 82KG (Middleweight) : 42\n",
            "82 - 90KG (Light-Heavyweight) : 42\n",
            "90 - 100KG (Heavyweight) : 42\n",
            "C-1 500M (Canoe Single) : 27\n",
            "C-2 500M (Canoe Double) : 54\n",
            "Pair Without Coxswain (2-) : 54\n",
            "Quadruple Sculls With Coxswain (4X) : 45\n",
            "Quadruple Sculls Without Coxswain (4X) : 180\n",
            "470 - Two Person Dinghy : 90\n",
            "Tornado - Multihull : 54\n",
            "- 60 KG : 36\n",
            "+ 95KG (Heavyweight) : 16\n",
            "60 - 65KG (Half-Lightweight) : 16\n",
            "65 - 71KG (Lightweight) : 16\n",
            "71 - 78KG (Half-Middleweight) : 16\n",
            "78 - 86KG (Middleweight) : 16\n",
            "86 - 95KG (Half-Heavyweight) : 16\n",
            "100 - 110KG, Total (Heavyweight) : 12\n",
            "90 - 100KG, Total (First-Heavyweight) : 12\n",
            "Duet : 42\n",
            "Solo : 9\n",
            "3000M : 9\n",
            "Heptathlon : 24\n",
            "+ 91KG (Super Heavyweight) : 28\n",
            "81 - 91KG (Heavyweight) : 28\n",
            "K-4 500M (Kayak Four) : 84\n",
            "Points Race : 33\n",
            "Board (Windglider) : 3\n",
            "10M Air Rifle (40 Shots) : 21\n",
            "10M Air Rifle (60 Shots) : 21\n",
            "25M Pistol (30+30 Shots) : 21\n",
            "50M Rifle 3 Positions (3X20 Shots) : 21\n",
            "50M Freestyle : 43\n",
            "Sprint : 24\n",
            "Board (Division Ii) : 3\n",
            "10M Air Pistol (40 Shots) : 18\n",
            "10M Air Pistol (60 Shots) : 18\n",
            "100 - 130KG (Super Heavyweight) : 18\n",
            "Individual (Fita Olympic Round - 70M) : 30\n",
            "Team (Fita Olympic Round - 70M) : 90\n",
            "Baseball : 335\n",
            "- 48KG (Extra-Lightweight) : 12\n",
            "+ 72KG (Heavyweight) : 8\n",
            "48 - 52KG (Half-Lightweight) : 20\n",
            "52 - 56KG (Lightweight) : 8\n",
            "56 - 61KG (Half-Middleweight) : 8\n",
            "61 - 66KG (Middleweight) : 8\n",
            "66 - 72KG (Half-Heavyweight) : 8\n",
            "Coxless Four (4-) : 12\n",
            "Board (Lechner) : 6\n",
            "Single-Handed Dinghy (Europe) : 12\n",
            "Cross-Country : 30\n",
            "Group Competition : 90\n",
            "+ 100KG (Heavyweight) : 16\n",
            "60 - 66KG (Half-Lightweight) : 16\n",
            "66 - 73KG (Lightweight) : 16\n",
            "73 - 81KG (Half-Middleweight) : 16\n",
            "81 - 90KG (Middleweight) : 16\n",
            "90 - 100KG (Half-Heavyweight) : 16\n",
            "Lightweight Coxless Four (4-) : 48\n",
            "Lightweight Double Sculls (2X) : 48\n",
            "Board (Mistral) : 18\n",
            "Single-Handed Dinghy Open (Laser) : 9\n",
            "Double Trap (120 Targets) : 9\n",
            "Double Trap (150 Targets) : 12\n",
            "Softball : 180\n",
            "Beach Volleyball : 60\n",
            "- 54KG, Total (Flyweight) : 3\n",
            "+ 108KG, Total (Super Heavyweight) : 3\n",
            "54 - 59KG, Total (Bantamweight) : 3\n",
            "59 - 64KG, Total (Featherweight) : 3\n",
            "64 - 70KG, Total (Lightweight) : 3\n",
            "70 - 76KG, Total (Middleweight) : 3\n",
            "76 - 83KG, Total (Light-Heavyweight) : 3\n",
            "83 - 91KG, Total (Middle-Heavyweight) : 3\n",
            "91 - 99KG, Total (First-Heavyweight) : 3\n",
            "99 - 108KG, Total (Heavyweight) : 3\n",
            "Synchronized Diving 10M Platform : 36\n",
            "Synchronized Diving 3M Springboard : 36\n",
            "20KM Race Walk : 12\n",
            "500M Time Trial : 6\n",
            "Keirin : 16\n",
            "Madison : 18\n",
            "Olympic Sprint : 9\n",
            "+ 78KG (Heavyweight) : 12\n",
            "52 - 57KG (Lightweight) : 12\n",
            "57 - 63KG (Half-Middleweight) : 12\n",
            "63 - 70KG (Middleweight) : 12\n",
            "70 - 78KG (Half-Heavyweight) : 12\n",
            "49Er - Skiff : 24\n",
            "10M Running Target (30+30 Shots) : 6\n",
            "Skeet (75 Targets) : 9\n",
            "Trap (75 Targets) : 9\n",
            "- 49 KG : 14\n",
            "- 58 KG : 14\n",
            "+ 67 KG : 14\n",
            "+ 80 KG : 14\n",
            "49 - 57 KG : 14\n",
            "57 - 67 KG : 14\n",
            "58 - 68 KG : 14\n",
            "68 - 80 KG : 14\n",
            "+ 105KG : 9\n",
            "+ 75KG : 9\n",
            "105KG : 12\n",
            "48KG : 12\n",
            "53KG : 12\n",
            "56KG : 7\n",
            "58KG : 12\n",
            "62KG : 12\n",
            "63KG : 12\n",
            "69KG : 24\n",
            "75KG : 12\n",
            "77KG : 12\n",
            "85KG : 12\n",
            "94KG : 12\n",
            "48 - 54KG : 6\n",
            "54 - 58KG : 6\n",
            "58 - 63KG : 6\n",
            "63 - 69KG : 6\n",
            "69 - 76KG : 6\n",
            "76 - 85KG : 6\n",
            "85 - 97KG : 6\n",
            "97 - 130KG : 6\n",
            "48KG (Light Flywieght) : 8\n",
            "60 - 64 KG : 12\n",
            "64 - 69 KG : 12\n",
            "69 - 75 KG : 12\n",
            "Team Sprint : 33\n",
            "- 48 KG : 12\n",
            "Star - Keelboat : 12\n",
            "Yngling - Keelboat : 18\n",
            "- 48KG : 7\n",
            "- 55KG : 14\n",
            "48 - 55KG : 7\n",
            "55 - 60KG : 14\n",
            "55 - 63KG : 7\n",
            "60 - 66KG : 18\n",
            "63 - 72KG : 7\n",
            "66 - 74KG : 14\n",
            "74 - 84KG : 13\n",
            "84 - 96KG : 14\n",
            "96 - 120KG : 14\n",
            "Marathon 10KM : 6\n",
            "Finn - Heavyweight Dinghy : 3\n",
            "Laser - One Person Dinghy : 3\n",
            "Laser Radial - One Person Dinghy : 3\n",
            "Rs:X - Windsurfer : 6\n",
            "Synchronized 10M : 12\n",
            "Synchronized 3M : 12\n",
            "200M Medley : 6\n",
            "400M Medley : 6\n",
            "4X100M Freestyle : 38\n",
            "4X100M Medley : 35\n",
            "4X200M Freestyle : 38\n",
            "3000M Steeple : 6\n",
            "+ 91KG : 4\n",
            "46 - 49KG : 4\n",
            "51 KG : 4\n",
            "52KG : 4\n",
            "57 - 60KG : 4\n",
            "60 KG : 4\n",
            "75 - 81KG : 4\n",
            "75 KG : 4\n",
            "81 - 91KG : 4\n",
            "C-1 (Single) : 3\n",
            "C-2 (Double) : 6\n",
            "K-1 (Single) : 6\n",
            "C-1 1000M : 3\n",
            "C-1 200M : 3\n",
            "C-2 1000M : 6\n",
            "K-1 1000M : 3\n",
            "K-1 200M : 6\n",
            "K-1 500M : 3\n",
            "K-2 1000M : 6\n",
            "K-2 200M : 6\n",
            "K-2 500M : 6\n",
            "K-4 1000M : 12\n",
            "K-4 500M : 12\n",
            "Individual Road : 6\n",
            "Time Trial : 6\n",
            "Omnium : 6\n",
            "Team Pursuit : 22\n",
            "Beam : 3\n",
            "Individual All-Around : 9\n",
            "+ 100KG : 4\n",
            "+ 78KG : 4\n",
            "48 - 52KG : 4\n",
            "52 - 57KG : 4\n",
            "57 - 63KG : 4\n",
            "63 - 70KG : 4\n",
            "66 - 73KG : 4\n",
            "70 - 78KG : 4\n",
            "73 - 81KG : 4\n",
            "81 - 90KG : 4\n",
            "90 - 100KG : 4\n",
            "Coxless Four : 12\n",
            "Coxless Pair 2- : 12\n",
            "Double Sculls : 12\n",
            "Eight With Coxswain : 54\n",
            "Lightweight 4 : 12\n",
            "Lightweight Doubles : 12\n",
            "Quadruple Sculls : 24\n",
            "Single Sculls : 6\n",
            "470 : 12\n",
            "Elliott 6M : 9\n",
            "Finn : 3\n",
            "Laser : 3\n",
            "Laser Radial : 3\n",
            "Rs:X : 6\n",
            "Star : 6\n",
            "10M Air Pistol : 6\n",
            "10M Air Rifle : 6\n",
            "25M Pistol : 3\n",
            "25M Rapid Pistol : 3\n",
            "50M Pistol : 3\n",
            "50M Rifle 3 Positions : 6\n",
            "50M Rifle Prone : 3\n",
            "Double Trap 150 : 3\n",
            "Skeet : 6\n",
            "Trap : 6\n",
            "+105KG : 3\n",
            "+75KG : 3\n",
            "-56KG : 3\n",
            "Wf 120KG : 4\n",
            "Wf 48 KG : 4\n",
            "Wf 55 KG : 8\n",
            "Wf 60 KG : 4\n",
            "Wf 63 KG : 4\n",
            "Wf 66 KG : 4\n",
            "Wf 72 KG : 4\n",
            "Wf 74 KG : 4\n",
            "Wf 84 KG : 4\n",
            "Wf 96 KG : 4\n",
            "Wg 120 KG : 4\n",
            "Wg 55 KG : 4\n",
            "Wg 60 KG : 4\n",
            "Wg 66 KG : 4\n",
            "Wg 74 KG : 4\n",
            "Wg 84 KG : 4\n",
            "Wg 96 KG : 4\n"
          ]
        }
      ]
    },
    {
      "cell_type": "markdown",
      "metadata": {
        "id": "WEg0tDgeITd5"
      },
      "source": [
        "## Which player has won most number of medals?(Top 5)"
      ]
    },
    {
      "cell_type": "code",
      "metadata": {
        "colab": {
          "base_uri": "https://localhost:8080/"
        },
        "id": "85ZjmHt70bCN",
        "outputId": "b3113c6b-79a1-462e-b612-b5094ad3725a"
      },
      "source": [
        "df.Athlete.value_counts().head()"
      ],
      "execution_count": 23,
      "outputs": [
        {
          "output_type": "execute_result",
          "data": {
            "text/plain": [
              "PHELPS, Michael         22\n",
              "LATYNINA, Larisa        18\n",
              "ANDRIANOV, Nikolay      15\n",
              "MANGIAROTTI, Edoardo    13\n",
              "ONO, Takashi            13\n",
              "Name: Athlete, dtype: int64"
            ]
          },
          "metadata": {},
          "execution_count": 23
        }
      ]
    },
    {
      "cell_type": "code",
      "metadata": {
        "colab": {
          "base_uri": "https://localhost:8080/"
        },
        "id": "aEXESUly0nc0",
        "outputId": "d159198b-b6e3-42f4-cd42-5b75af4c05aa"
      },
      "source": [
        "df.Athlete.value_counts()"
      ],
      "execution_count": 24,
      "outputs": [
        {
          "output_type": "execute_result",
          "data": {
            "text/plain": [
              "PHELPS, Michael         22\n",
              "LATYNINA, Larisa        18\n",
              "ANDRIANOV, Nikolay      15\n",
              "MANGIAROTTI, Edoardo    13\n",
              "ONO, Takashi            13\n",
              "                        ..\n",
              "GIDDENS, Rebecca         1\n",
              "KUDO, Akira              1\n",
              "BRAY, John               1\n",
              "MAKHOV, Bilyal           1\n",
              "HOVOROVA, Olena          1\n",
              "Name: Athlete, Length: 22762, dtype: int64"
            ]
          },
          "metadata": {},
          "execution_count": 24
        }
      ]
    },
    {
      "cell_type": "markdown",
      "metadata": {
        "id": "WMsD4rLiITpl"
      },
      "source": [
        "## Which player has won most number Gold Medals of medals? (Top 5)"
      ]
    },
    {
      "cell_type": "code",
      "metadata": {
        "colab": {
          "base_uri": "https://localhost:8080/"
        },
        "id": "iB-t_arQ0vF4",
        "outputId": "2beda740-b937-42d8-c4e0-99fb737331b6"
      },
      "source": [
        "df[df.Medal=='Gold'].Athlete.value_counts().head()\n"
      ],
      "execution_count": 26,
      "outputs": [
        {
          "output_type": "execute_result",
          "data": {
            "text/plain": [
              "PHELPS, Michael     18\n",
              "LEWIS, Carl          9\n",
              "SPITZ, Mark          9\n",
              "LATYNINA, Larisa     9\n",
              "NURMI, Paavo         9\n",
              "Name: Athlete, dtype: int64"
            ]
          },
          "metadata": {},
          "execution_count": 26
        }
      ]
    },
    {
      "cell_type": "markdown",
      "metadata": {
        "id": "pxHPHqZpITsf"
      },
      "source": [
        "##  In which year India won first Gold Medal in Summer Olympics?"
      ]
    },
    {
      "cell_type": "code",
      "metadata": {
        "colab": {
          "base_uri": "https://localhost:8080/"
        },
        "id": "ysczFY_V1RG3",
        "outputId": "1d749f93-135c-4418-e602-0bbaa49f0a0d"
      },
      "source": [
        "df2=df[df.Medal=='Gold']\n",
        "min(df2[df2.Country=='IND'].Year)"
      ],
      "execution_count": 32,
      "outputs": [
        {
          "output_type": "execute_result",
          "data": {
            "text/plain": [
              "1928"
            ]
          },
          "metadata": {},
          "execution_count": 32
        }
      ]
    },
    {
      "cell_type": "markdown",
      "metadata": {
        "id": "9ZS3Q3QrIT1Q"
      },
      "source": [
        "## Which event is most popular in terms on number of players?(Top 5)"
      ]
    },
    {
      "cell_type": "code",
      "metadata": {
        "colab": {
          "base_uri": "https://localhost:8080/"
        },
        "id": "wy58ciT42PSY",
        "outputId": "0a72221e-dfb4-4d1c-d46c-24ae5e0cddd1"
      },
      "source": [
        "df['Event'].value_counts().head()"
      ],
      "execution_count": 38,
      "outputs": [
        {
          "output_type": "execute_result",
          "data": {
            "text/plain": [
              "Football            1497\n",
              "Hockey              1422\n",
              "Team Competition    1147\n",
              "Basketball          1012\n",
              "Handball             973\n",
              "Name: Event, dtype: int64"
            ]
          },
          "metadata": {},
          "execution_count": 38
        }
      ]
    },
    {
      "cell_type": "code",
      "metadata": {
        "colab": {
          "base_uri": "https://localhost:8080/"
        },
        "id": "gsKGFxV92Pe7",
        "outputId": "203a08bb-f195-4ffa-d88c-32646e4d43dc"
      },
      "source": [
        "df['Sport'].value_counts().head()"
      ],
      "execution_count": 39,
      "outputs": [
        {
          "output_type": "execute_result",
          "data": {
            "text/plain": [
              "Aquatics      4170\n",
              "Athletics     3638\n",
              "Rowing        2667\n",
              "Gymnastics    2307\n",
              "Fencing       1613\n",
              "Name: Sport, dtype: int64"
            ]
          },
          "metadata": {},
          "execution_count": 39
        }
      ]
    },
    {
      "cell_type": "code",
      "metadata": {
        "colab": {
          "base_uri": "https://localhost:8080/",
          "height": 35
        },
        "id": "qWUIznoggdG7",
        "outputId": "54d9b87c-839b-4c1b-aa93-256a0b65d887"
      },
      "source": [
        "df['Sport'].max()\n"
      ],
      "execution_count": 35,
      "outputs": [
        {
          "output_type": "execute_result",
          "data": {
            "application/vnd.google.colaboratory.intrinsic+json": {
              "type": "string"
            },
            "text/plain": [
              "'Wrestling'"
            ]
          },
          "metadata": {},
          "execution_count": 35
        }
      ]
    },
    {
      "cell_type": "code",
      "metadata": {
        "colab": {
          "base_uri": "https://localhost:8080/",
          "height": 35
        },
        "id": "gt8h5wUQ19dS",
        "outputId": "1140a97a-cbe6-47cb-a5b7-7b0f9a84ff9d"
      },
      "source": [
        "df['Event'].max()"
      ],
      "execution_count": 36,
      "outputs": [
        {
          "output_type": "execute_result",
          "data": {
            "application/vnd.google.colaboratory.intrinsic+json": {
              "type": "string"
            },
            "text/plain": [
              "'Épée, Masters'"
            ]
          },
          "metadata": {},
          "execution_count": 36
        }
      ]
    },
    {
      "cell_type": "markdown",
      "metadata": {
        "id": "013h4hHNJD57"
      },
      "source": [
        "##  Which sport is having most female Gold Medalists?(Top 5)"
      ]
    },
    {
      "cell_type": "code",
      "metadata": {
        "id": "1UEyZ5r8JJ_h",
        "colab": {
          "base_uri": "https://localhost:8080/"
        },
        "outputId": "644d4d78-61ff-4b9d-d6bf-448543ee1322"
      },
      "source": [
        "df2=df[df.Medal=='Gold']\n",
        "df2[df2.Gender=='Women'].Sport.value_counts().head()"
      ],
      "execution_count": 40,
      "outputs": [
        {
          "output_type": "execute_result",
          "data": {
            "text/plain": [
              "Aquatics      589\n",
              "Athletics     389\n",
              "Gymnastics    268\n",
              "Rowing        217\n",
              "Volleyball    166\n",
              "Name: Sport, dtype: int64"
            ]
          },
          "metadata": {},
          "execution_count": 40
        }
      ]
    },
    {
      "cell_type": "code",
      "metadata": {
        "id": "B0KEwKuEIKd8",
        "colab": {
          "base_uri": "https://localhost:8080/"
        },
        "outputId": "b67092a7-2dd6-4a46-fe31-11951bbbed3b"
      },
      "source": [
        "df2=df[df.Medal=='Gold']\n",
        "df2[df2.Gender=='Women'].Event.value_counts().head()"
      ],
      "execution_count": 41,
      "outputs": [
        {
          "output_type": "execute_result",
          "data": {
            "text/plain": [
              "Volleyball          156\n",
              "Hockey              144\n",
              "Handball            142\n",
              "Team Competition    126\n",
              "Basketball          120\n",
              "Name: Event, dtype: int64"
            ]
          },
          "metadata": {},
          "execution_count": 41
        }
      ]
    },
    {
      "cell_type": "code",
      "metadata": {
        "id": "j1bl_UZsH2Um"
      },
      "source": [
        ""
      ],
      "execution_count": null,
      "outputs": []
    }
  ]
}